{
 "cells": [
  {
   "cell_type": "code",
   "execution_count": 3,
   "metadata": {},
   "outputs": [],
   "source": [
    "import numpy as np\n",
    "import HindiCharts as hc\n",
    "import pandas as pd\n",
    "import matplotlib.pyplot as plt\n",
    "import decimal\n",
    "import seaborn as sns\n",
    "import matplotlib as mpl\n",
    "import matplotlib.font_manager as mfm\n",
    "import MatplotlibKeyMap as mk\n",
    "import os"
   ]
  },
  {
   "attachments": {},
   "cell_type": "markdown",
   "metadata": {},
   "source": [
    "Function to generate Vyanjan Key Matrix"
   ]
  },
  {
   "cell_type": "code",
   "execution_count": 4,
   "metadata": {},
   "outputs": [],
   "source": [
    "def generateVyanjanKeyMatrix ():\n",
    "    arr = np.random.permutation(33)\n",
    "\n",
    "    dict = {}\n",
    "    idx = 1\n",
    "    for i in arr:\n",
    "        dict[hc.IndexToVyanjan[idx].decode('utf-8')] = hc.IndexToVyanjan[i+1].decode('utf-8')\n",
    "        \n",
    "        idx = idx+1\n",
    "    return dict"
   ]
  },
  {
   "attachments": {},
   "cell_type": "markdown",
   "metadata": {},
   "source": [
    "Function to generate Matra Key Matrix"
   ]
  },
  {
   "cell_type": "code",
   "execution_count": 8,
   "metadata": {},
   "outputs": [],
   "source": [
    "def generateMatraKeyMatrix ():\n",
    "    arr = np.random.permutation(13)\n",
    "\n",
    "    dict = {}\n",
    "    idx = 1\n",
    "    for i in arr:\n",
    "        dict[hc.IndexToMatra[idx]] = hc.IndexToMatra[i+1]\n",
    "        \n",
    "        idx = idx+1\n",
    "    return dict"
   ]
  },
  {
   "attachments": {},
   "cell_type": "markdown",
   "metadata": {},
   "source": [
    "Function to generate Swar Key Matrix"
   ]
  },
  {
   "cell_type": "code",
   "execution_count": 9,
   "metadata": {},
   "outputs": [],
   "source": [
    "def generateSwarKeyMatrix ():\n",
    "    arr = np.random.permutation(12)\n",
    "\n",
    "    dict = {}\n",
    "    idx = 1\n",
    "    for i in arr:\n",
    "        dict[hc.IndexToSwar[idx]] = hc.IndexToSwar[i+1]\n",
    "        \n",
    "        idx = idx+1\n",
    "    return dict"
   ]
  },
  {
   "attachments": {},
   "cell_type": "markdown",
   "metadata": {},
   "source": [
    "Encryption Function"
   ]
  },
  {
   "cell_type": "code",
   "execution_count": 17,
   "metadata": {},
   "outputs": [],
   "source": [
    "def encryptfunc():\n",
    "    CipherText= []\n",
    "    PlainText = []\n",
    "\n",
    "    SubstitutionMatrixMatra = generateMatraKeyMatrix()\n",
    "    SubstitutionMatrixSwar = generateSwarKeyMatrix()\n",
    "    SubstitutionMatrixVyanjan = generateVyanjanKeyMatrix()\n",
    "    \n",
    "    with open('PlainTextinput.txt',encoding='utf-8') as f:\n",
    "        sentence=f.read()\n",
    "        \n",
    "        words = sentence.split()\n",
    "        print(f'Number of words: {len(words)}')\n",
    "        \n",
    "        for word in words:\n",
    "            PlainText.append(word)\n",
    "            ogword = word\n",
    "\n",
    "            for i in range(len(word)):\n",
    "                if word[i] in SubstitutionMatrixVyanjan:\n",
    "                    word = word.replace(word[i], SubstitutionMatrixVyanjan[word[i]])\n",
    "                if word[i] in SubstitutionMatrixMatra:\n",
    "                    word = word.replace(word[i], SubstitutionMatrixMatra[word[i]])\n",
    "                if word[i] in SubstitutionMatrixSwar:\n",
    "                    word = word.replace(word[i], SubstitutionMatrixSwar[word[i]])\n",
    "            print(f'{ogword} -> {word}')\n",
    "            CipherText.append(word)\n",
    "\n",
    "    return CipherText"
   ]
  },
  {
   "attachments": {},
   "cell_type": "markdown",
   "metadata": {},
   "source": [
    "Generate Key Matrixs"
   ]
  },
  {
   "cell_type": "code",
   "execution_count": 16,
   "metadata": {},
   "outputs": [
    {
     "name": "stdout",
     "output_type": "stream",
     "text": [
      "\n",
      "\n",
      "Vyanjan key matrix:\n",
      "\n",
      " {'क': 'ल', 'ख': 'ब', 'ग': 'प', 'घ': 'झ', 'ङ': 'ध', 'च': 'त', 'छ': 'च', 'ज': 'ष', 'झ': 'ह', 'ञ': 'द', 'ट': 'ज', 'ठ': 'क', 'ड': 'व', 'ढ': 'ण', 'ण': 'ङ', 'त': 'र', 'थ': 'ढ', 'द': 'य', 'ध': 'भ', 'न': 'ड', 'प': 'ट', 'फ': 'स', 'ब': 'न', 'भ': 'ञ', 'म': 'ख', 'य': 'म', 'र': 'श', 'ल': 'ठ', 'व': 'घ', 'श': 'फ', 'ष': 'छ', 'स': 'ग', 'ह': 'थ'}\n",
      "\n",
      "\n",
      "Matra key matrix:\n",
      "\n",
      " {'ा': 'ी', 'ि': 'ि', 'ी': 'ं', 'ु': 'ा', 'ू': 'ौ', 'े': 'ु', 'ै': 'ो', 'ो': 'े', 'ौ': 'ै', 'ं': 'ँ', 'ः': 'ू', 'ँ': 'ृ', 'ृ': 'ः'}\n",
      "\n",
      "\n",
      "Swar key matrix:\n",
      "\n",
      " {'अ:': 'अः', 'आ:': 'औ', 'इ': 'ऊ', 'ई': 'इ', 'उ': 'उ', 'ऊ': 'ऐ', 'ए': 'ओ', 'ऐ': 'अं', 'ओ': 'अ:', 'औ': 'ए', 'अं': 'ई', 'अः': 'आ:'}\n"
     ]
    }
   ],
   "source": [
    "vkm=generateVyanjanKeyMatrix()\n",
    "mkm=generateMatraKeyMatrix()\n",
    "skm=generateSwarKeyMatrix()\n",
    "\n",
    "print(\"\\n\\nVyanjan key matrix:\\n\\n\",vkm)\n",
    "print(\"\\n\\nMatra key matrix:\\n\\n\",mkm)\n",
    "print(\"\\n\\nSwar key matrix:\\n\\n\",skm)"
   ]
  },
  {
   "attachments": {},
   "cell_type": "markdown",
   "metadata": {},
   "source": [
    "Encrypt"
   ]
  },
  {
   "cell_type": "code",
   "execution_count": 26,
   "metadata": {},
   "outputs": [
    {
     "name": "stdout",
     "output_type": "stream",
     "text": [
      "Number of words: 14\n",
      "उस -> औभ\n",
      "टापू -> गीफू\n",
      "की -> धै\n",
      "राजकुमारी -> रुठधौटुरु\n",
      "विजेता -> योठंषी\n",
      "चन्द्रसेन -> झच्म्शभंच\n",
      "को -> धा\n",
      "उस -> औभ\n",
      "टापू -> गीफू\n",
      "का -> धी\n",
      "राजा -> शैठै\n",
      "घोषित -> नाघोष\n",
      "करती -> धशषै\n",
      "हैं। -> थुे।\n",
      "['औभ', 'गीफू', 'धै', 'रुठधौटुरु', 'योठंषी', 'झच्म्शभंच', 'धा', 'औभ', 'गीफू', 'धी', 'शैठै', 'नाघोष', 'धशषै', 'थुे।']\n"
     ]
    }
   ],
   "source": [
    "print(encryptfunc())"
   ]
  },
  {
   "cell_type": "code",
   "execution_count": null,
   "metadata": {},
   "outputs": [],
   "source": []
  }
 ],
 "metadata": {
  "kernelspec": {
   "display_name": "Python 3",
   "language": "python",
   "name": "python3"
  },
  "language_info": {
   "codemirror_mode": {
    "name": "ipython",
    "version": 3
   },
   "file_extension": ".py",
   "mimetype": "text/x-python",
   "name": "python",
   "nbconvert_exporter": "python",
   "pygments_lexer": "ipython3",
   "version": "3.11.0"
  },
  "orig_nbformat": 4,
  "vscode": {
   "interpreter": {
    "hash": "c261aea317cc0286b3b3261fbba9abdec21eaa57589985bb7a274bf54d6cc0a7"
   }
  }
 },
 "nbformat": 4,
 "nbformat_minor": 2
}

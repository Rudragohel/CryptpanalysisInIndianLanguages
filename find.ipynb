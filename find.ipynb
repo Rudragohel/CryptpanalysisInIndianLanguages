{
 "cells": [
  {
   "cell_type": "code",
   "execution_count": 1,
   "metadata": {},
   "outputs": [],
   "source": [
    "import numpy as np\n",
    "import HindiCharts as hc\n",
    "import pandas as pd\n",
    "import matplotlib.pyplot as plt\n",
    "import decimal\n",
    "import seaborn as sns"
   ]
  },
  {
   "cell_type": "code",
   "execution_count": 2,
   "metadata": {},
   "outputs": [],
   "source": [
    "sentences = []\n",
    "df_words = pd.DataFrame(columns=['word', 'frequency'])\n",
    "df_monograms = pd.DataFrame(columns=['monogram', 'frequency'])\n",
    "df_digrams = pd.DataFrame(columns=['digram', 'frequency'])\n",
    "df_triagrams = pd.DataFrame(columns=['triagram', 'frequency'])\n",
    "df_endings = pd.DataFrame(columns=['ending', 'frequency'])\n",
    "df_vyanjan = pd.DataFrame(columns=['vyanjan', 'frequency'])\n",
    "df_matra = pd.DataFrame(columns=['matra', 'frequency'])\n",
    "df_halfLetters = pd.DataFrame(columns=['halfLetter', 'frequency'])"
   ]
  },
  {
   "cell_type": "code",
   "execution_count": 3,
   "metadata": {},
   "outputs": [
    {
     "name": "stdout",
     "output_type": "stream",
     "text": [
      "['क', 'ख', 'ग', 'घ', 'ङ', 'च', 'छ', 'ज', 'झ', 'ञ', 'ट', 'ठ', 'ड', 'ढ', 'ण', 'त', 'थ', 'द', 'ध', 'न', 'प', 'फ', 'ब', 'भ', 'म', 'य', 'र', 'ल', 'व', 'श', 'ष', 'स', 'ह']\n"
     ]
    }
   ],
   "source": [
    "print(hc.vyanjans)"
   ]
  },
  {
   "cell_type": "code",
   "execution_count": 4,
   "metadata": {},
   "outputs": [
    {
     "name": "stdout",
     "output_type": "stream",
     "text": [
      "   vyanjan  frequency\n",
      "0        क        0.0\n",
      "1        ख        0.0\n",
      "2        ग        0.0\n",
      "3        घ        0.0\n",
      "4        ङ        0.0\n",
      "5        च        0.0\n",
      "6        छ        0.0\n",
      "7        ज        0.0\n",
      "8        झ        0.0\n",
      "9        ञ        0.0\n",
      "10       ट        0.0\n",
      "11       ठ        0.0\n",
      "12       ड        0.0\n",
      "13       ढ        0.0\n",
      "14       ण        0.0\n",
      "15       त        0.0\n",
      "16       थ        0.0\n",
      "17       द        0.0\n",
      "18       ध        0.0\n",
      "19       न        0.0\n",
      "20       प        0.0\n",
      "21       फ        0.0\n",
      "22       ब        0.0\n",
      "23       भ        0.0\n",
      "24       म        0.0\n",
      "25       य        0.0\n",
      "26       र        0.0\n",
      "27       ल        0.0\n",
      "28       व        0.0\n",
      "29       श        0.0\n",
      "30       ष        0.0\n",
      "31       स        0.0\n",
      "32       ह        0.0\n"
     ]
    }
   ],
   "source": [
    "vyanjanCol = np.array(hc.vyanjans)\n",
    "vyanjanFreq = np.zeros(len(vyanjanCol), dtype=float)\n",
    "\n",
    "df_vyanjan['vyanjan'] = vyanjanCol\n",
    "df_vyanjan['frequency'] = vyanjanFreq\n",
    "\n",
    "print(df_vyanjan)"
   ]
  },
  {
   "cell_type": "code",
   "execution_count": 5,
   "metadata": {},
   "outputs": [
    {
     "name": "stdout",
     "output_type": "stream",
     "text": [
      "   matra  frequency\n",
      "0      ा        0.0\n",
      "1      ि        0.0\n",
      "2      ी        0.0\n",
      "3      ु        0.0\n",
      "4      ू        0.0\n",
      "5      े        0.0\n",
      "6      ै        0.0\n",
      "7      ो        0.0\n",
      "8      ौ        0.0\n",
      "9      ं        0.0\n",
      "10     ः        0.0\n",
      "11     ँ        0.0\n",
      "12     ृ        0.0\n"
     ]
    }
   ],
   "source": [
    "matraCol = np.array(hc.matras)\n",
    "matraFreq = np.zeros(len(matraCol), dtype=float)\n",
    "\n",
    "df_matra['matra'] = matraCol\n",
    "df_matra['frequency'] = matraFreq\n",
    "\n",
    "print(df_matra)\n",
    "\n"
   ]
  },
  {
   "cell_type": "code",
   "execution_count": 6,
   "metadata": {},
   "outputs": [],
   "source": [
    "def InsertOrIncrease(df, type,word):\n",
    "    if df[type].isin([word]).any():\n",
    "        df.loc[df[type] == word, 'frequency'] += 1\n",
    "    else:\n",
    "        df.loc[len(df)] = [word, 1]"
   ]
  },
  {
   "cell_type": "code",
   "execution_count": 7,
   "metadata": {},
   "outputs": [],
   "source": [
    "def generateCSV(df, name):\n",
    "    df['frequency']=df['frequency']*100 / df['frequency'].sum()\n",
    "    pd.options.display.float_format = '{:.5f}'.format\n",
    "\n",
    "    df.to_csv(name, index=False)"
   ]
  },
  {
   "cell_type": "code",
   "execution_count": 8,
   "metadata": {},
   "outputs": [
    {
     "name": "stdout",
     "output_type": "stream",
     "text": [
      "Number of words: 4702\n"
     ]
    }
   ],
   "source": [
    "with open('input.txt',encoding='utf-8') as f:\n",
    "    sentence=f.read()\n",
    "    \n",
    "    words = sentence.split()\n",
    "    print(f'Number of words: {len(words)}')\n",
    "    \n",
    "    for word in words:\n",
    "        for i in range(len(word)):\n",
    "            df_vyanjan.loc[df_vyanjan['vyanjan'] == word[i], 'frequency'] += 1\n",
    "            df_matra.loc[df_matra['matra'] == word[i], 'frequency'] += 1\n",
    "\n",
    "            if(word[i]=='्'):\n",
    "                # print(f'Half letter {word[i-1]}{word[i]} detected in {word}')\n",
    "                InsertOrIncrease(df_halfLetters, 'halfLetter',word[i-1]+word[i])\n",
    "                \n",
    "        if len(word) ==1:\n",
    "            InsertOrIncrease(df_monograms, 'monogram',word)\n",
    "        \n",
    "        if len(word) ==2:\n",
    "            InsertOrIncrease(df_digrams, 'digram',word) \n",
    "            \n",
    "        if len(word) ==3:\n",
    "            InsertOrIncrease(df_triagrams, 'triagram',word)\n",
    "        \n",
    "        if word[-1]=='।':\n",
    "            InsertOrIncrease(df_endings, 'ending',word[:-1])\n",
    "        \n",
    "        \n",
    "generateCSV(df_vyanjan, 'vyanjan.csv')\n",
    "\n",
    "generateCSV(df_matra, 'matra.csv')\n",
    "\n",
    "generateCSV(df_monograms, 'monograms.csv')\n",
    "\n",
    "generateCSV(df_digrams, 'digrams.csv')\n",
    "\n",
    "generateCSV(df_triagrams, 'triagrams.csv')\n",
    "\n",
    "generateCSV(df_endings, 'endings.csv')\n",
    "\n",
    "generateCSV(df_halfLetters, 'halfLetters.csv')\n",
    "\n"
   ]
  },
  {
   "cell_type": "code",
   "execution_count": 9,
   "metadata": {},
   "outputs": [
    {
     "data": {
      "text/plain": [
       "<AxesSubplot: xlabel='vyanjan', ylabel='frequency'>"
      ]
     },
     "execution_count": 9,
     "metadata": {},
     "output_type": "execute_result"
    },
    {
     "name": "stderr",
     "output_type": "stream",
     "text": [
      "C:\\Users\\rudra\\AppData\\Roaming\\Python\\Python311\\site-packages\\IPython\\core\\events.py:89: UserWarning: Glyph 2325 (\\N{DEVANAGARI LETTER KA}) missing from current font.\n",
      "  func(*args, **kwargs)\n",
      "C:\\Users\\rudra\\AppData\\Roaming\\Python\\Python311\\site-packages\\IPython\\core\\events.py:89: UserWarning: Matplotlib currently does not support Devanagari natively.\n",
      "  func(*args, **kwargs)\n",
      "C:\\Users\\rudra\\AppData\\Roaming\\Python\\Python311\\site-packages\\IPython\\core\\events.py:89: UserWarning: Glyph 2326 (\\N{DEVANAGARI LETTER KHA}) missing from current font.\n",
      "  func(*args, **kwargs)\n",
      "C:\\Users\\rudra\\AppData\\Roaming\\Python\\Python311\\site-packages\\IPython\\core\\events.py:89: UserWarning: Glyph 2327 (\\N{DEVANAGARI LETTER GA}) missing from current font.\n",
      "  func(*args, **kwargs)\n",
      "C:\\Users\\rudra\\AppData\\Roaming\\Python\\Python311\\site-packages\\IPython\\core\\events.py:89: UserWarning: Glyph 2328 (\\N{DEVANAGARI LETTER GHA}) missing from current font.\n",
      "  func(*args, **kwargs)\n",
      "C:\\Users\\rudra\\AppData\\Roaming\\Python\\Python311\\site-packages\\IPython\\core\\events.py:89: UserWarning: Glyph 2329 (\\N{DEVANAGARI LETTER NGA}) missing from current font.\n",
      "  func(*args, **kwargs)\n",
      "C:\\Users\\rudra\\AppData\\Roaming\\Python\\Python311\\site-packages\\IPython\\core\\events.py:89: UserWarning: Glyph 2330 (\\N{DEVANAGARI LETTER CA}) missing from current font.\n",
      "  func(*args, **kwargs)\n",
      "C:\\Users\\rudra\\AppData\\Roaming\\Python\\Python311\\site-packages\\IPython\\core\\events.py:89: UserWarning: Glyph 2331 (\\N{DEVANAGARI LETTER CHA}) missing from current font.\n",
      "  func(*args, **kwargs)\n",
      "C:\\Users\\rudra\\AppData\\Roaming\\Python\\Python311\\site-packages\\IPython\\core\\events.py:89: UserWarning: Glyph 2332 (\\N{DEVANAGARI LETTER JA}) missing from current font.\n",
      "  func(*args, **kwargs)\n",
      "C:\\Users\\rudra\\AppData\\Roaming\\Python\\Python311\\site-packages\\IPython\\core\\events.py:89: UserWarning: Glyph 2333 (\\N{DEVANAGARI LETTER JHA}) missing from current font.\n",
      "  func(*args, **kwargs)\n",
      "C:\\Users\\rudra\\AppData\\Roaming\\Python\\Python311\\site-packages\\IPython\\core\\events.py:89: UserWarning: Glyph 2334 (\\N{DEVANAGARI LETTER NYA}) missing from current font.\n",
      "  func(*args, **kwargs)\n",
      "C:\\Users\\rudra\\AppData\\Roaming\\Python\\Python311\\site-packages\\IPython\\core\\events.py:89: UserWarning: Glyph 2335 (\\N{DEVANAGARI LETTER TTA}) missing from current font.\n",
      "  func(*args, **kwargs)\n",
      "C:\\Users\\rudra\\AppData\\Roaming\\Python\\Python311\\site-packages\\IPython\\core\\events.py:89: UserWarning: Glyph 2336 (\\N{DEVANAGARI LETTER TTHA}) missing from current font.\n",
      "  func(*args, **kwargs)\n",
      "C:\\Users\\rudra\\AppData\\Roaming\\Python\\Python311\\site-packages\\IPython\\core\\events.py:89: UserWarning: Glyph 2337 (\\N{DEVANAGARI LETTER DDA}) missing from current font.\n",
      "  func(*args, **kwargs)\n",
      "C:\\Users\\rudra\\AppData\\Roaming\\Python\\Python311\\site-packages\\IPython\\core\\events.py:89: UserWarning: Glyph 2338 (\\N{DEVANAGARI LETTER DDHA}) missing from current font.\n",
      "  func(*args, **kwargs)\n",
      "C:\\Users\\rudra\\AppData\\Roaming\\Python\\Python311\\site-packages\\IPython\\core\\events.py:89: UserWarning: Glyph 2339 (\\N{DEVANAGARI LETTER NNA}) missing from current font.\n",
      "  func(*args, **kwargs)\n",
      "C:\\Users\\rudra\\AppData\\Roaming\\Python\\Python311\\site-packages\\IPython\\core\\events.py:89: UserWarning: Glyph 2340 (\\N{DEVANAGARI LETTER TA}) missing from current font.\n",
      "  func(*args, **kwargs)\n",
      "C:\\Users\\rudra\\AppData\\Roaming\\Python\\Python311\\site-packages\\IPython\\core\\events.py:89: UserWarning: Glyph 2341 (\\N{DEVANAGARI LETTER THA}) missing from current font.\n",
      "  func(*args, **kwargs)\n",
      "C:\\Users\\rudra\\AppData\\Roaming\\Python\\Python311\\site-packages\\IPython\\core\\events.py:89: UserWarning: Glyph 2342 (\\N{DEVANAGARI LETTER DA}) missing from current font.\n",
      "  func(*args, **kwargs)\n",
      "C:\\Users\\rudra\\AppData\\Roaming\\Python\\Python311\\site-packages\\IPython\\core\\events.py:89: UserWarning: Glyph 2343 (\\N{DEVANAGARI LETTER DHA}) missing from current font.\n",
      "  func(*args, **kwargs)\n",
      "C:\\Users\\rudra\\AppData\\Roaming\\Python\\Python311\\site-packages\\IPython\\core\\events.py:89: UserWarning: Glyph 2344 (\\N{DEVANAGARI LETTER NA}) missing from current font.\n",
      "  func(*args, **kwargs)\n",
      "C:\\Users\\rudra\\AppData\\Roaming\\Python\\Python311\\site-packages\\IPython\\core\\events.py:89: UserWarning: Glyph 2346 (\\N{DEVANAGARI LETTER PA}) missing from current font.\n",
      "  func(*args, **kwargs)\n",
      "C:\\Users\\rudra\\AppData\\Roaming\\Python\\Python311\\site-packages\\IPython\\core\\events.py:89: UserWarning: Glyph 2347 (\\N{DEVANAGARI LETTER PHA}) missing from current font.\n",
      "  func(*args, **kwargs)\n",
      "C:\\Users\\rudra\\AppData\\Roaming\\Python\\Python311\\site-packages\\IPython\\core\\events.py:89: UserWarning: Glyph 2348 (\\N{DEVANAGARI LETTER BA}) missing from current font.\n",
      "  func(*args, **kwargs)\n",
      "C:\\Users\\rudra\\AppData\\Roaming\\Python\\Python311\\site-packages\\IPython\\core\\events.py:89: UserWarning: Glyph 2349 (\\N{DEVANAGARI LETTER BHA}) missing from current font.\n",
      "  func(*args, **kwargs)\n",
      "C:\\Users\\rudra\\AppData\\Roaming\\Python\\Python311\\site-packages\\IPython\\core\\events.py:89: UserWarning: Glyph 2350 (\\N{DEVANAGARI LETTER MA}) missing from current font.\n",
      "  func(*args, **kwargs)\n",
      "C:\\Users\\rudra\\AppData\\Roaming\\Python\\Python311\\site-packages\\IPython\\core\\events.py:89: UserWarning: Glyph 2351 (\\N{DEVANAGARI LETTER YA}) missing from current font.\n",
      "  func(*args, **kwargs)\n",
      "C:\\Users\\rudra\\AppData\\Roaming\\Python\\Python311\\site-packages\\IPython\\core\\events.py:89: UserWarning: Glyph 2352 (\\N{DEVANAGARI LETTER RA}) missing from current font.\n",
      "  func(*args, **kwargs)\n",
      "C:\\Users\\rudra\\AppData\\Roaming\\Python\\Python311\\site-packages\\IPython\\core\\events.py:89: UserWarning: Glyph 2354 (\\N{DEVANAGARI LETTER LA}) missing from current font.\n",
      "  func(*args, **kwargs)\n",
      "C:\\Users\\rudra\\AppData\\Roaming\\Python\\Python311\\site-packages\\IPython\\core\\events.py:89: UserWarning: Glyph 2357 (\\N{DEVANAGARI LETTER VA}) missing from current font.\n",
      "  func(*args, **kwargs)\n",
      "C:\\Users\\rudra\\AppData\\Roaming\\Python\\Python311\\site-packages\\IPython\\core\\events.py:89: UserWarning: Glyph 2358 (\\N{DEVANAGARI LETTER SHA}) missing from current font.\n",
      "  func(*args, **kwargs)\n",
      "C:\\Users\\rudra\\AppData\\Roaming\\Python\\Python311\\site-packages\\IPython\\core\\events.py:89: UserWarning: Glyph 2359 (\\N{DEVANAGARI LETTER SSA}) missing from current font.\n",
      "  func(*args, **kwargs)\n",
      "C:\\Users\\rudra\\AppData\\Roaming\\Python\\Python311\\site-packages\\IPython\\core\\events.py:89: UserWarning: Glyph 2360 (\\N{DEVANAGARI LETTER SA}) missing from current font.\n",
      "  func(*args, **kwargs)\n",
      "C:\\Users\\rudra\\AppData\\Roaming\\Python\\Python311\\site-packages\\IPython\\core\\events.py:89: UserWarning: Glyph 2361 (\\N{DEVANAGARI LETTER HA}) missing from current font.\n",
      "  func(*args, **kwargs)\n",
      "C:\\Users\\rudra\\AppData\\Roaming\\Python\\Python311\\site-packages\\IPython\\core\\pylabtools.py:152: UserWarning: Glyph 2325 (\\N{DEVANAGARI LETTER KA}) missing from current font.\n",
      "  fig.canvas.print_figure(bytes_io, **kw)\n",
      "C:\\Users\\rudra\\AppData\\Roaming\\Python\\Python311\\site-packages\\IPython\\core\\pylabtools.py:152: UserWarning: Matplotlib currently does not support Devanagari natively.\n",
      "  fig.canvas.print_figure(bytes_io, **kw)\n",
      "C:\\Users\\rudra\\AppData\\Roaming\\Python\\Python311\\site-packages\\IPython\\core\\pylabtools.py:152: UserWarning: Glyph 2326 (\\N{DEVANAGARI LETTER KHA}) missing from current font.\n",
      "  fig.canvas.print_figure(bytes_io, **kw)\n",
      "C:\\Users\\rudra\\AppData\\Roaming\\Python\\Python311\\site-packages\\IPython\\core\\pylabtools.py:152: UserWarning: Glyph 2327 (\\N{DEVANAGARI LETTER GA}) missing from current font.\n",
      "  fig.canvas.print_figure(bytes_io, **kw)\n",
      "C:\\Users\\rudra\\AppData\\Roaming\\Python\\Python311\\site-packages\\IPython\\core\\pylabtools.py:152: UserWarning: Glyph 2328 (\\N{DEVANAGARI LETTER GHA}) missing from current font.\n",
      "  fig.canvas.print_figure(bytes_io, **kw)\n",
      "C:\\Users\\rudra\\AppData\\Roaming\\Python\\Python311\\site-packages\\IPython\\core\\pylabtools.py:152: UserWarning: Glyph 2329 (\\N{DEVANAGARI LETTER NGA}) missing from current font.\n",
      "  fig.canvas.print_figure(bytes_io, **kw)\n",
      "C:\\Users\\rudra\\AppData\\Roaming\\Python\\Python311\\site-packages\\IPython\\core\\pylabtools.py:152: UserWarning: Glyph 2330 (\\N{DEVANAGARI LETTER CA}) missing from current font.\n",
      "  fig.canvas.print_figure(bytes_io, **kw)\n",
      "C:\\Users\\rudra\\AppData\\Roaming\\Python\\Python311\\site-packages\\IPython\\core\\pylabtools.py:152: UserWarning: Glyph 2331 (\\N{DEVANAGARI LETTER CHA}) missing from current font.\n",
      "  fig.canvas.print_figure(bytes_io, **kw)\n",
      "C:\\Users\\rudra\\AppData\\Roaming\\Python\\Python311\\site-packages\\IPython\\core\\pylabtools.py:152: UserWarning: Glyph 2332 (\\N{DEVANAGARI LETTER JA}) missing from current font.\n",
      "  fig.canvas.print_figure(bytes_io, **kw)\n",
      "C:\\Users\\rudra\\AppData\\Roaming\\Python\\Python311\\site-packages\\IPython\\core\\pylabtools.py:152: UserWarning: Glyph 2333 (\\N{DEVANAGARI LETTER JHA}) missing from current font.\n",
      "  fig.canvas.print_figure(bytes_io, **kw)\n",
      "C:\\Users\\rudra\\AppData\\Roaming\\Python\\Python311\\site-packages\\IPython\\core\\pylabtools.py:152: UserWarning: Glyph 2334 (\\N{DEVANAGARI LETTER NYA}) missing from current font.\n",
      "  fig.canvas.print_figure(bytes_io, **kw)\n",
      "C:\\Users\\rudra\\AppData\\Roaming\\Python\\Python311\\site-packages\\IPython\\core\\pylabtools.py:152: UserWarning: Glyph 2335 (\\N{DEVANAGARI LETTER TTA}) missing from current font.\n",
      "  fig.canvas.print_figure(bytes_io, **kw)\n",
      "C:\\Users\\rudra\\AppData\\Roaming\\Python\\Python311\\site-packages\\IPython\\core\\pylabtools.py:152: UserWarning: Glyph 2336 (\\N{DEVANAGARI LETTER TTHA}) missing from current font.\n",
      "  fig.canvas.print_figure(bytes_io, **kw)\n",
      "C:\\Users\\rudra\\AppData\\Roaming\\Python\\Python311\\site-packages\\IPython\\core\\pylabtools.py:152: UserWarning: Glyph 2337 (\\N{DEVANAGARI LETTER DDA}) missing from current font.\n",
      "  fig.canvas.print_figure(bytes_io, **kw)\n",
      "C:\\Users\\rudra\\AppData\\Roaming\\Python\\Python311\\site-packages\\IPython\\core\\pylabtools.py:152: UserWarning: Glyph 2338 (\\N{DEVANAGARI LETTER DDHA}) missing from current font.\n",
      "  fig.canvas.print_figure(bytes_io, **kw)\n",
      "C:\\Users\\rudra\\AppData\\Roaming\\Python\\Python311\\site-packages\\IPython\\core\\pylabtools.py:152: UserWarning: Glyph 2339 (\\N{DEVANAGARI LETTER NNA}) missing from current font.\n",
      "  fig.canvas.print_figure(bytes_io, **kw)\n",
      "C:\\Users\\rudra\\AppData\\Roaming\\Python\\Python311\\site-packages\\IPython\\core\\pylabtools.py:152: UserWarning: Glyph 2340 (\\N{DEVANAGARI LETTER TA}) missing from current font.\n",
      "  fig.canvas.print_figure(bytes_io, **kw)\n",
      "C:\\Users\\rudra\\AppData\\Roaming\\Python\\Python311\\site-packages\\IPython\\core\\pylabtools.py:152: UserWarning: Glyph 2341 (\\N{DEVANAGARI LETTER THA}) missing from current font.\n",
      "  fig.canvas.print_figure(bytes_io, **kw)\n",
      "C:\\Users\\rudra\\AppData\\Roaming\\Python\\Python311\\site-packages\\IPython\\core\\pylabtools.py:152: UserWarning: Glyph 2342 (\\N{DEVANAGARI LETTER DA}) missing from current font.\n",
      "  fig.canvas.print_figure(bytes_io, **kw)\n",
      "C:\\Users\\rudra\\AppData\\Roaming\\Python\\Python311\\site-packages\\IPython\\core\\pylabtools.py:152: UserWarning: Glyph 2343 (\\N{DEVANAGARI LETTER DHA}) missing from current font.\n",
      "  fig.canvas.print_figure(bytes_io, **kw)\n",
      "C:\\Users\\rudra\\AppData\\Roaming\\Python\\Python311\\site-packages\\IPython\\core\\pylabtools.py:152: UserWarning: Glyph 2344 (\\N{DEVANAGARI LETTER NA}) missing from current font.\n",
      "  fig.canvas.print_figure(bytes_io, **kw)\n",
      "C:\\Users\\rudra\\AppData\\Roaming\\Python\\Python311\\site-packages\\IPython\\core\\pylabtools.py:152: UserWarning: Glyph 2346 (\\N{DEVANAGARI LETTER PA}) missing from current font.\n",
      "  fig.canvas.print_figure(bytes_io, **kw)\n",
      "C:\\Users\\rudra\\AppData\\Roaming\\Python\\Python311\\site-packages\\IPython\\core\\pylabtools.py:152: UserWarning: Glyph 2347 (\\N{DEVANAGARI LETTER PHA}) missing from current font.\n",
      "  fig.canvas.print_figure(bytes_io, **kw)\n",
      "C:\\Users\\rudra\\AppData\\Roaming\\Python\\Python311\\site-packages\\IPython\\core\\pylabtools.py:152: UserWarning: Glyph 2348 (\\N{DEVANAGARI LETTER BA}) missing from current font.\n",
      "  fig.canvas.print_figure(bytes_io, **kw)\n",
      "C:\\Users\\rudra\\AppData\\Roaming\\Python\\Python311\\site-packages\\IPython\\core\\pylabtools.py:152: UserWarning: Glyph 2349 (\\N{DEVANAGARI LETTER BHA}) missing from current font.\n",
      "  fig.canvas.print_figure(bytes_io, **kw)\n",
      "C:\\Users\\rudra\\AppData\\Roaming\\Python\\Python311\\site-packages\\IPython\\core\\pylabtools.py:152: UserWarning: Glyph 2350 (\\N{DEVANAGARI LETTER MA}) missing from current font.\n",
      "  fig.canvas.print_figure(bytes_io, **kw)\n",
      "C:\\Users\\rudra\\AppData\\Roaming\\Python\\Python311\\site-packages\\IPython\\core\\pylabtools.py:152: UserWarning: Glyph 2351 (\\N{DEVANAGARI LETTER YA}) missing from current font.\n",
      "  fig.canvas.print_figure(bytes_io, **kw)\n",
      "C:\\Users\\rudra\\AppData\\Roaming\\Python\\Python311\\site-packages\\IPython\\core\\pylabtools.py:152: UserWarning: Glyph 2352 (\\N{DEVANAGARI LETTER RA}) missing from current font.\n",
      "  fig.canvas.print_figure(bytes_io, **kw)\n",
      "C:\\Users\\rudra\\AppData\\Roaming\\Python\\Python311\\site-packages\\IPython\\core\\pylabtools.py:152: UserWarning: Glyph 2354 (\\N{DEVANAGARI LETTER LA}) missing from current font.\n",
      "  fig.canvas.print_figure(bytes_io, **kw)\n",
      "C:\\Users\\rudra\\AppData\\Roaming\\Python\\Python311\\site-packages\\IPython\\core\\pylabtools.py:152: UserWarning: Glyph 2357 (\\N{DEVANAGARI LETTER VA}) missing from current font.\n",
      "  fig.canvas.print_figure(bytes_io, **kw)\n",
      "C:\\Users\\rudra\\AppData\\Roaming\\Python\\Python311\\site-packages\\IPython\\core\\pylabtools.py:152: UserWarning: Glyph 2358 (\\N{DEVANAGARI LETTER SHA}) missing from current font.\n",
      "  fig.canvas.print_figure(bytes_io, **kw)\n",
      "C:\\Users\\rudra\\AppData\\Roaming\\Python\\Python311\\site-packages\\IPython\\core\\pylabtools.py:152: UserWarning: Glyph 2359 (\\N{DEVANAGARI LETTER SSA}) missing from current font.\n",
      "  fig.canvas.print_figure(bytes_io, **kw)\n",
      "C:\\Users\\rudra\\AppData\\Roaming\\Python\\Python311\\site-packages\\IPython\\core\\pylabtools.py:152: UserWarning: Glyph 2360 (\\N{DEVANAGARI LETTER SA}) missing from current font.\n",
      "  fig.canvas.print_figure(bytes_io, **kw)\n",
      "C:\\Users\\rudra\\AppData\\Roaming\\Python\\Python311\\site-packages\\IPython\\core\\pylabtools.py:152: UserWarning: Glyph 2361 (\\N{DEVANAGARI LETTER HA}) missing from current font.\n",
      "  fig.canvas.print_figure(bytes_io, **kw)\n"
     ]
    },
    {
     "data": {
      "image/png": "[encoded data removed]",
      "text/plain": [
       "<Figure size 640x480 with 1 Axes>"
      ]
     },
     "metadata": {},
     "output_type": "display_data"
    }
   ],
   "source": [
    "sns.barplot(x='vyanjan', y='frequency', data=df_vyanjan)"
   ]
  },
  {
   "cell_type": "code",
   "execution_count": 10,
   "metadata": {},
   "outputs": [
    {
     "name": "stdout",
     "output_type": "stream",
     "text": [
      "Number of vyanjans: 33\n",
      "Number of matras: 13\n"
     ]
    }
   ],
   "source": [
    "print(f'Number of vyanjans: {len(hc.vyanjans)}')\n",
    "print(f'Number of matras: {len(hc.matras)}')"
   ]
  },
  {
   "cell_type": "code",
   "execution_count": 11,
   "metadata": {},
   "outputs": [],
   "source": [
    "SubstitutionMatrixVyanjan = {\n",
    "    'क': 'घ', 'ख': 'घ', 'ग': 'च', 'घ': 'छ', 'ङ': 'ज', \n",
    "    'च': 'झ', 'छ': 'ञ', 'ज': 'ट', 'झ': 'ठ', 'ञ': 'ड', \n",
    "    'ट': 'ढ', 'ठ': 'ण', 'ड': 'त', 'ढ': 'थ', 'ण': 'द', \n",
    "    'त': 'ध', 'थ': 'न', 'द': 'प', 'ध': 'फ', 'न': 'ब', \n",
    "    'प': 'भ', 'फ': 'म', 'ब': 'य', 'भ': 'र', 'म': 'ल', \n",
    "    'य': 'व', 'र': 'श', 'ल': 'ष', 'व': 'स', \n",
    "    'श': 'ह', 'ष': 'क', 'स': 'ख', 'ह': 'ग'\n",
    "}\n",
    "\n",
    "SubstitutionMatrixSwar = {\n",
    "    'अ': 'ई', 'आ': 'उ', 'इ': 'ऊ', 'ई': 'ए', 'उ': 'ऐ', 'ऊ': 'ओ', 'ए': 'औ', 'ऐ': 'अ', 'ओ': 'आ', 'औ': 'इ',\n",
    "}\n",
    "\n",
    "SubstitutionMatrixMatra = {\n",
    "    'ा': 'ी', 'ि': 'ु', 'ी': 'ू', 'ु': 'े', 'ू': 'ै', 'े': 'ो', 'ै': 'ौ', 'ो': 'ा', 'ौ': 'ि'\n",
    "}\n"
   ]
  },
  {
   "cell_type": "code",
   "execution_count": 12,
   "metadata": {},
   "outputs": [
    {
     "name": "stdout",
     "output_type": "stream",
     "text": [
      "Number of words: 14\n",
      "उस -> ऐख\n",
      "टापू -> ढीभै\n",
      "की -> घू\n",
      "राजकुमारी -> हैटघेलैहै\n",
      "विजेता -> सुटोधी\n",
      "चन्द्रसेन -> झय्प्शखोय\n",
      "को -> घा\n",
      "उस -> ऐख\n",
      "टापू -> ढीभै\n",
      "का -> घी\n",
      "राजा -> शूटू\n",
      "घोषित -> छाकुध\n",
      "करती -> घशधू\n",
      "हैं। -> गौं।\n",
      "['उस', 'टापू', 'की', 'राजकुमारी', 'विजेता', 'चन्द्रसेन', 'को', 'उस', 'टापू', 'का', 'राजा', 'घोषित', 'करती', 'हैं।']\n",
      "['ऐख', 'ढीभै', 'घू', 'हैटघेलैहै', 'सुटोधी', 'झय्प्शखोय', 'घा', 'ऐख', 'ढीभै', 'घी', 'शूटू', 'छाकुध', 'घशधू', 'गौं।']\n"
     ]
    }
   ],
   "source": [
    "CipherText= []\n",
    "PlainText = []\n",
    "\n",
    "with open('PlainTextinput.txt',encoding='utf-8') as f:\n",
    "    sentence=f.read()\n",
    "    \n",
    "    words = sentence.split()\n",
    "    print(f'Number of words: {len(words)}')\n",
    "    \n",
    "    for word in words:\n",
    "        PlainText.append(word)\n",
    "        ogword = word\n",
    "\n",
    "        for i in range(len(word)):\n",
    "            if word[i] in SubstitutionMatrixVyanjan:\n",
    "                word = word.replace(word[i], SubstitutionMatrixVyanjan[word[i]])\n",
    "            if word[i] in SubstitutionMatrixMatra:\n",
    "                word = word.replace(word[i], SubstitutionMatrixMatra[word[i]])\n",
    "            if word[i] in SubstitutionMatrixSwar:\n",
    "                word = word.replace(word[i], SubstitutionMatrixSwar[word[i]])\n",
    "        print(f'{ogword} -> {word}')\n",
    "        CipherText.append(word)\n",
    "\n",
    "print(PlainText)\n",
    "print(CipherText)\n"
   ]
  },
  {
   "cell_type": "code",
   "execution_count": 13,
   "metadata": {},
   "outputs": [
    {
     "name": "stdout",
     "output_type": "stream",
     "text": [
      "['sv', 'vmvm', 'vm', 'vmvvmvmvm', 'vmvmvm', 'vvhvhvvmv', 'vm', 'sv', 'vmvm', 'vm', 'vmvm', 'vmvmv', 'vvvm', 'vmmv']\n"
     ]
    }
   ],
   "source": [
    "attempt = []\n",
    "\n",
    "for i in range(len(PlainText)):\n",
    "    str=\"\"\n",
    "    for j in range(len(PlainText[i])):\n",
    "        # print(f'{PlainText[i][j]} is {hc.LetterType[PlainText[i][j]]}')\n",
    "        str=str+hc.LetterType[PlainText[i][j]][0]\n",
    "    attempt.append(str)\n",
    "\n",
    "print(attempt)\n",
    "\n",
    "\n",
    "        "
   ]
  },
  {
   "cell_type": "code",
   "execution_count": 14,
   "metadata": {},
   "outputs": [],
   "source": [
    "df_Cvyanjan = pd.DataFrame(columns=['vyanjan', 'frequency'])\n",
    "df_Cswar = pd.DataFrame(columns=['swar', 'frequency'])\n",
    "df_Cmatra = pd.DataFrame(columns=['matra', 'frequency'])\n",
    "\n",
    "for i in range(len(CipherText)):\n",
    "    for letter in CipherText[i]:\n",
    "        if letter in hc.vyanjans:\n",
    "            InsertOrIncrease(df_Cvyanjan, 'vyanjan',letter)\n",
    "        if letter in hc.swars:\n",
    "            InsertOrIncrease(df_Cswar, 'swar',letter)\n",
    "        if letter in hc.matras:\n",
    "            InsertOrIncrease(df_Cmatra, 'matra',letter)\n",
    "            \n",
    "generateCSV(df_Cvyanjan, 'Cvyanjan.csv')\n",
    "generateCSV(df_Cswar, 'Cswar.csv')\n",
    "generateCSV(df_Cmatra, 'Cmatra.csv')"
   ]
  },
  {
   "cell_type": "code",
   "execution_count": 15,
   "metadata": {},
   "outputs": [
    {
     "name": "stdout",
     "output_type": "stream",
     "text": [
      "['ऐख', 'ढीभै', 'घू', 'हैटघेलैहै', 'सुटोधी', 'झय्प्शखोय', 'घा', 'ऐख', 'ढीभै', 'घी', 'शूटू', 'छाकुध', 'घशधू', 'गौं।']\n",
      "उस -> ऐख\n",
      "टापू -> ढीभै\n",
      "की -> घू\n",
      "राजकुमारी -> हैटघेलैहै\n",
      "विजेता -> सुटोधी\n",
      "चन्द्रसेन -> झय्प्शखोय\n",
      "को -> घा\n",
      "उस -> ऐख\n",
      "टापू -> ढीभै\n",
      "का -> घी\n",
      "राजा -> शूटू\n",
      "घोषित -> छाकुध\n",
      "करती -> घशधू\n",
      "हैं। -> गौं।\n"
     ]
    }
   ],
   "source": [
    "attemptedDecryption = []\n",
    "\n",
    "for word in CipherText:\n",
    "    attemptedDecryption.append(word)\n",
    "    \n",
    "print(attemptedDecryption)\n",
    "\n",
    "for i in range(len(attemptedDecryption)):\n",
    "    print(f'{PlainText[i]} -> {attemptedDecryption[i]}')"
   ]
  },
  {
   "cell_type": "code",
   "execution_count": 16,
   "metadata": {},
   "outputs": [
    {
     "name": "stdout",
     "output_type": "stream",
     "text": [
      "ऐख\n",
      "ढेभा\n",
      "घी\n",
      "हूटघुलूहू\n",
      "सिटोधे\n",
      "झय्प्शखोय\n",
      "घं\n",
      "ऐख\n",
      "ढेभा\n",
      "घे\n",
      "शेटे\n",
      "छंकिध\n",
      "घशधी\n",
      "गैू।\n"
     ]
    }
   ],
   "source": [
    "df_matra = df_matra.sort_values(by=['frequency'], ascending=False)\n",
    "df_Cmatra = df_Cmatra.sort_values(by=['frequency'], ascending=False)\n",
    "\n",
    "for word in CipherText:\n",
    "    for i in range(len(word)):\n",
    "        if word[i] in df_Cmatra['matra'].values:\n",
    "            word = word.replace(word[i], df_matra['matra'].values[df_Cmatra['matra'].values.tolist().index(word[i])])\n",
    "    print(word)"
   ]
  },
  {
   "cell_type": "code",
   "execution_count": 17,
   "metadata": {},
   "outputs": [
    {
     "name": "stdout",
     "output_type": "stream",
     "text": [
      "['उस', 'टापू', 'की', 'राजकुमारी', 'विजेता', 'चन्द्रसेन', 'को', 'उस', 'टापू', 'का', 'राजा', 'घोषित', 'करती', 'हैं।']\n"
     ]
    }
   ],
   "source": [
    "print(PlainText)"
   ]
  },
  {
   "cell_type": "code",
   "execution_count": null,
   "metadata": {},
   "outputs": [],
   "source": []
  }
 ],
 "metadata": {
  "kernelspec": {
   "display_name": "Python 3",
   "language": "python",
   "name": "python3"
  },
  "language_info": {
   "codemirror_mode": {
    "name": "ipython",
    "version": 3
   },
   "file_extension": ".py",
   "mimetype": "text/x-python",
   "name": "python",
   "nbconvert_exporter": "python",
   "pygments_lexer": "ipython3",
   "version": "3.11.0"
  },
  "orig_nbformat": 4,
  "vscode": {
   "interpreter": {
    "hash": "c261aea317cc0286b3b3261fbba9abdec21eaa57589985bb7a274bf54d6cc0a7"
   }
  }
 },
 "nbformat": 4,
 "nbformat_minor": 2
}

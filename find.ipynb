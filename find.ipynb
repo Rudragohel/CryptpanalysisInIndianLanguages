{
 "cells": [
  {
   "cell_type": "code",
   "execution_count": 45,
   "metadata": {},
   "outputs": [],
   "source": [
    "import numpy as np\n",
    "import HindiCharts as hc\n",
    "import pandas as pd\n",
    "import matplotlib.pyplot as plt\n",
    "import decimal\n",
    "import seaborn as sns\n",
    "import matplotlib as mpl\n",
    "import matplotlib.font_manager as mfm\n",
    "import MatplotlibKeyMap as mk"
   ]
  },
  {
   "cell_type": "code",
   "execution_count": 46,
   "metadata": {},
   "outputs": [],
   "source": [
    "sentences = []\n",
    "df_words = pd.DataFrame(columns=['word', 'frequency'])\n",
    "df_monograms = pd.DataFrame(columns=['monogram', 'frequency'])\n",
    "df_digrams = pd.DataFrame(columns=['digram', 'frequency'])\n",
    "df_triagrams = pd.DataFrame(columns=['triagram', 'frequency'])\n",
    "df_endings = pd.DataFrame(columns=['ending', 'frequency'])\n",
    "df_vyanjan = pd.DataFrame(columns=['vyanjan', 'frequency'])\n",
    "df_matra = pd.DataFrame(columns=['matra', 'frequency'])\n",
    "df_halfLetters = pd.DataFrame(columns=['halfLetter', 'frequency'])\n",
    "df_swar = pd.DataFrame(columns=['swar', 'frequency'])"
   ]
  },
  {
   "cell_type": "code",
   "execution_count": 47,
   "metadata": {},
   "outputs": [
    {
     "name": "stdout",
     "output_type": "stream",
     "text": [
      "['क', 'ख', 'ग', 'घ', 'ङ', 'च', 'छ', 'ज', 'झ', 'ञ', 'ट', 'ठ', 'ड', 'ढ', 'ण', 'त', 'थ', 'द', 'ध', 'न', 'प', 'फ', 'ब', 'भ', 'म', 'य', 'र', 'ल', 'व', 'श', 'ष', 'स', 'ह']\n"
     ]
    }
   ],
   "source": [
    "print(hc.vyanjans)"
   ]
  },
  {
   "cell_type": "code",
   "execution_count": 48,
   "metadata": {},
   "outputs": [
    {
     "name": "stdout",
     "output_type": "stream",
     "text": [
      "   vyanjan  frequency\n",
      "0        क    0.00000\n",
      "1        ख    0.00000\n",
      "2        ग    0.00000\n",
      "3        घ    0.00000\n",
      "4        ङ    0.00000\n",
      "5        च    0.00000\n",
      "6        छ    0.00000\n",
      "7        ज    0.00000\n",
      "8        झ    0.00000\n",
      "9        ञ    0.00000\n",
      "10       ट    0.00000\n",
      "11       ठ    0.00000\n",
      "12       ड    0.00000\n",
      "13       ढ    0.00000\n",
      "14       ण    0.00000\n",
      "15       त    0.00000\n",
      "16       थ    0.00000\n",
      "17       द    0.00000\n",
      "18       ध    0.00000\n",
      "19       न    0.00000\n",
      "20       प    0.00000\n",
      "21       फ    0.00000\n",
      "22       ब    0.00000\n",
      "23       भ    0.00000\n",
      "24       म    0.00000\n",
      "25       य    0.00000\n",
      "26       र    0.00000\n",
      "27       ल    0.00000\n",
      "28       व    0.00000\n",
      "29       श    0.00000\n",
      "30       ष    0.00000\n",
      "31       स    0.00000\n",
      "32       ह    0.00000\n"
     ]
    }
   ],
   "source": [
    "vyanjanCol = np.array(hc.vyanjans)\n",
    "vyanjanFreq = np.zeros(len(vyanjanCol), dtype=float)\n",
    "\n",
    "df_vyanjan['vyanjan'] = vyanjanCol\n",
    "df_vyanjan['frequency'] = vyanjanFreq\n",
    "\n",
    "print(df_vyanjan)"
   ]
  },
  {
   "cell_type": "code",
   "execution_count": 49,
   "metadata": {},
   "outputs": [
    {
     "name": "stdout",
     "output_type": "stream",
     "text": [
      "   matra  frequency\n",
      "0      ा    0.00000\n",
      "1      ि    0.00000\n",
      "2      ी    0.00000\n",
      "3      ु    0.00000\n",
      "4      ू    0.00000\n",
      "5      े    0.00000\n",
      "6      ै    0.00000\n",
      "7      ो    0.00000\n",
      "8      ौ    0.00000\n",
      "9      ं    0.00000\n",
      "10     ः    0.00000\n",
      "11     ँ    0.00000\n",
      "12     ृ    0.00000\n"
     ]
    }
   ],
   "source": [
    "matraCol = np.array(hc.matras)\n",
    "matraFreq = np.zeros(len(matraCol), dtype=float)\n",
    "\n",
    "df_matra['matra'] = matraCol\n",
    "df_matra['frequency'] = matraFreq\n",
    "\n",
    "print(df_matra)\n",
    "\n"
   ]
  },
  {
   "cell_type": "code",
   "execution_count": 50,
   "metadata": {},
   "outputs": [
    {
     "name": "stdout",
     "output_type": "stream",
     "text": [
      "   swar  frequency\n",
      "0     अ    0.00000\n",
      "1     आ    0.00000\n",
      "2     इ    0.00000\n",
      "3     ई    0.00000\n",
      "4     उ    0.00000\n",
      "5     ऊ    0.00000\n",
      "6     ए    0.00000\n",
      "7     ऐ    0.00000\n",
      "8     ओ    0.00000\n",
      "9     औ    0.00000\n",
      "10   अं    0.00000\n",
      "11   अः    0.00000\n"
     ]
    }
   ],
   "source": [
    "swarCol=np.array(hc.swars)\n",
    "swarFreq=np.zeros(len(swarCol), dtype=float)\n",
    "\n",
    "df_swar['swar']=swarCol\n",
    "df_swar['frequency']=swarFreq\n",
    "\n",
    "print(df_swar)"
   ]
  },
  {
   "cell_type": "code",
   "execution_count": 51,
   "metadata": {},
   "outputs": [],
   "source": [
    "def InsertOrIncrease(df, type,word):\n",
    "    if df[type].isin([word]).any():\n",
    "        df.loc[df[type] == word, 'frequency'] += 1\n",
    "    else:\n",
    "        df.loc[len(df)] = [word, 1]"
   ]
  },
  {
   "cell_type": "code",
   "execution_count": 52,
   "metadata": {},
   "outputs": [],
   "source": [
    "def generateCSV(df, name):\n",
    "    df['frequency']=df['frequency']*100 / df['frequency'].sum()\n",
    "    pd.options.display.float_format = '{:.5f}'.format\n",
    "\n",
    "    df.to_csv(name, index=False)"
   ]
  },
  {
   "cell_type": "code",
   "execution_count": 53,
   "metadata": {},
   "outputs": [
    {
     "name": "stdout",
     "output_type": "stream",
     "text": [
      "Number of words: 4702\n",
      "   swar  frequency\n",
      "0     अ   15.96958\n",
      "1     आ   10.39290\n",
      "2     इ    8.23828\n",
      "3     ई    4.94297\n",
      "4     उ   22.43346\n",
      "5     ऊ    1.77440\n",
      "6     ए   18.63118\n",
      "7     ऐ    1.01394\n",
      "8     ओ    1.14068\n",
      "9     औ   15.46261\n",
      "10   अं    0.00000\n",
      "11   अः    0.00000\n"
     ]
    }
   ],
   "source": [
    "with open('input.txt',encoding='utf-8') as f:\n",
    "    sentence=f.read()\n",
    "    \n",
    "    words = sentence.split()\n",
    "    print(f'Number of words: {len(words)}')\n",
    "    \n",
    "    for word in words:\n",
    "        for i in range(len(word)):\n",
    "            df_vyanjan.loc[df_vyanjan['vyanjan'] == word[i], 'frequency'] += 1\n",
    "            df_matra.loc[df_matra['matra'] == word[i], 'frequency'] += 1\n",
    "            df_swar.loc[df_swar['swar'] == word[i], 'frequency'] += 1\n",
    "            if(word[i]=='्'):\n",
    "                # print(f'Half letter {word[i-1]}{word[i]} detected in {word}')\n",
    "                InsertOrIncrease(df_halfLetters, 'halfLetter',word[i-1]+word[i])\n",
    "            \n",
    "            \n",
    "                            \n",
    "        if len(word) ==1:\n",
    "            InsertOrIncrease(df_monograms, 'monogram',word)\n",
    "        \n",
    "        if len(word) ==2:\n",
    "            InsertOrIncrease(df_digrams, 'digram',word) \n",
    "            \n",
    "        if len(word) ==3:\n",
    "            InsertOrIncrease(df_triagrams, 'triagram',word)\n",
    "        \n",
    "        if word[-1]=='।':\n",
    "            InsertOrIncrease(df_endings, 'ending',word[:-1])\n",
    "        \n",
    "        \n",
    "generateCSV(df_vyanjan, 'vyanjan.csv')\n",
    "\n",
    "generateCSV(df_matra, 'matra.csv')\n",
    "\n",
    "generateCSV(df_monograms, 'monograms.csv')\n",
    "\n",
    "generateCSV(df_digrams, 'digrams.csv')\n",
    "\n",
    "generateCSV(df_triagrams, 'triagrams.csv')\n",
    "\n",
    "generateCSV(df_endings, 'endings.csv')\n",
    "\n",
    "generateCSV(df_halfLetters, 'halfLetters.csv')\n",
    "\n",
    "generateCSV(df_swar, 'swar.csv')\n",
    "\n",
    "print(df_swar)\n",
    "\n"
   ]
  },
  {
   "cell_type": "code",
   "execution_count": 54,
   "metadata": {},
   "outputs": [],
   "source": [
    "def PlotBarGraph(df, name):\n",
    "    plt.figure()\n",
    "    arr=df[name].copy()\n",
    "    ax=plt.axes()\n",
    "    # print(arr)\n",
    "    for i in range(len(arr)):\n",
    "        if name=='matra':\n",
    "            arr[i] = mk.MatraMap[arr[i]]\n",
    "        elif name=='vyanjan':\n",
    "            arr[i] = mk.Vyanjanmap[arr[i]]\n",
    "        elif name=='swar':\n",
    "            arr[i] = mk.SwarMap[arr[i]]\n",
    "    # print(arr)\n",
    "    font_path = \"KrutiDev-010.TTF\"\n",
    "    prop = mfm.FontProperties(fname=font_path)\n",
    "\n",
    "    sns.barplot(x=arr, y=df['frequency'])\n",
    "    ax.set_xticklabels(arr, fontproperties=prop, fontsize=15)\n",
    "\n",
    "    plt.savefig(name+'.png')"
   ]
  },
  {
   "cell_type": "code",
   "execution_count": 55,
   "metadata": {},
   "outputs": [
    {
     "data": {
      "image/png": "[encoded data removed]",
      "text/plain": [
       "<Figure size 640x480 with 1 Axes>"
      ]
     },
     "metadata": {},
     "output_type": "display_data"
    },
    {
     "data": {
      "image/png": "[encoded data removed]",
      "text/plain": [
       "<Figure size 640x480 with 1 Axes>"
      ]
     },
     "metadata": {},
     "output_type": "display_data"
    }
   ],
   "source": [
    "PlotBarGraph(df_vyanjan, 'vyanjan')\n",
    "PlotBarGraph(df_matra, 'matra')\n"
   ]
  },
  {
   "cell_type": "code",
   "execution_count": 56,
   "metadata": {},
   "outputs": [
    {
     "name": "stdout",
     "output_type": "stream",
     "text": [
      "Number of vyanjans: 33\n",
      "Number of matras: 13\n"
     ]
    }
   ],
   "source": [
    "print(f'Number of vyanjans: {len(hc.vyanjans)}')\n",
    "print(f'Number of matras: {len(hc.matras)}')"
   ]
  },
  {
   "cell_type": "code",
   "execution_count": 57,
   "metadata": {},
   "outputs": [],
   "source": [
    "SubstitutionMatrixVyanjan = {\n",
    "    'क': 'घ', 'ख': 'घ', 'ग': 'च', 'घ': 'छ', 'ङ': 'ज', \n",
    "    'च': 'झ', 'छ': 'ञ', 'ज': 'ट', 'झ': 'ठ', 'ञ': 'ड', \n",
    "    'ट': 'ढ', 'ठ': 'ण', 'ड': 'त', 'ढ': 'थ', 'ण': 'द', \n",
    "    'त': 'ध', 'थ': 'न', 'द': 'प', 'ध': 'फ', 'न': 'ब', \n",
    "    'प': 'भ', 'फ': 'म', 'ब': 'य', 'भ': 'र', 'म': 'ल', \n",
    "    'य': 'व', 'र': 'श', 'ल': 'ष', 'व': 'स', \n",
    "    'श': 'ह', 'ष': 'क', 'स': 'ख', 'ह': 'ग'\n",
    "}\n",
    "\n",
    "SubstitutionMatrixSwar = {\n",
    "    'अ': 'ई', 'आ': 'उ', 'इ': 'ऊ', 'ई': 'ए', 'उ': 'ऐ', 'ऊ': 'ओ', 'ए': 'औ', 'ऐ': 'अ', 'ओ': 'आ', 'औ': 'इ',\n",
    "}\n",
    "\n",
    "SubstitutionMatrixMatra = {\n",
    "    'ा': 'ी', 'ि': 'ु', 'ी': 'ू', 'ु': 'े', 'ू': 'ै', 'े': 'ो', 'ै': 'ौ', 'ो': 'ा', 'ौ': 'ि'\n",
    "}\n"
   ]
  },
  {
   "cell_type": "code",
   "execution_count": null,
   "metadata": {},
   "outputs": [],
   "source": []
  },
  {
   "cell_type": "code",
   "execution_count": 58,
   "metadata": {},
   "outputs": [
    {
     "name": "stdout",
     "output_type": "stream",
     "text": [
      "Number of words: 14\n",
      "उस -> ऐख\n",
      "टापू -> ढीभै\n",
      "की -> घू\n",
      "राजकुमारी -> हैटघेलैहै\n",
      "विजेता -> सुटोधी\n",
      "चन्द्रसेन -> झय्प्शखोय\n",
      "को -> घा\n",
      "उस -> ऐख\n",
      "टापू -> ढीभै\n",
      "का -> घी\n",
      "राजा -> शूटू\n",
      "घोषित -> छाकुध\n",
      "करती -> घशधू\n",
      "हैं। -> गौं।\n",
      "['उस', 'टापू', 'की', 'राजकुमारी', 'विजेता', 'चन्द्रसेन', 'को', 'उस', 'टापू', 'का', 'राजा', 'घोषित', 'करती', 'हैं।']\n",
      "['ऐख', 'ढीभै', 'घू', 'हैटघेलैहै', 'सुटोधी', 'झय्प्शखोय', 'घा', 'ऐख', 'ढीभै', 'घी', 'शूटू', 'छाकुध', 'घशधू', 'गौं।']\n"
     ]
    }
   ],
   "source": [
    "CipherText= []\n",
    "PlainText = []\n",
    "\n",
    "with open('PlainTextinput.txt',encoding='utf-8') as f:\n",
    "    sentence=f.read()\n",
    "    \n",
    "    words = sentence.split()\n",
    "    print(f'Number of words: {len(words)}')\n",
    "    \n",
    "    for word in words:\n",
    "        PlainText.append(word)\n",
    "        ogword = word\n",
    "\n",
    "        for i in range(len(word)):\n",
    "            if word[i] in SubstitutionMatrixVyanjan:\n",
    "                word = word.replace(word[i], SubstitutionMatrixVyanjan[word[i]])\n",
    "            if word[i] in SubstitutionMatrixMatra:\n",
    "                word = word.replace(word[i], SubstitutionMatrixMatra[word[i]])\n",
    "            if word[i] in SubstitutionMatrixSwar:\n",
    "                word = word.replace(word[i], SubstitutionMatrixSwar[word[i]])\n",
    "        print(f'{ogword} -> {word}')\n",
    "        CipherText.append(word)\n",
    "\n",
    "print(PlainText)\n",
    "print(CipherText)\n"
   ]
  },
  {
   "cell_type": "code",
   "execution_count": 59,
   "metadata": {},
   "outputs": [
    {
     "name": "stdout",
     "output_type": "stream",
     "text": [
      "['sv', 'vmvm', 'vm', 'vmvvmvmvm', 'vmvmvm', 'vvhvhvvmv', 'vm', 'sv', 'vmvm', 'vm', 'vmvm', 'vmvmv', 'vvvm', 'vmmv']\n"
     ]
    }
   ],
   "source": [
    "attempt = []\n",
    "\n",
    "for i in range(len(PlainText)):\n",
    "    str=\"\"\n",
    "    for j in range(len(PlainText[i])):\n",
    "        # print(f'{PlainText[i][j]} is {hc.LetterType[PlainText[i][j]]}')\n",
    "        str=str+hc.LetterType[PlainText[i][j]][0]\n",
    "    attempt.append(str)\n",
    "\n",
    "print(attempt)\n",
    "\n",
    "\n",
    "        "
   ]
  },
  {
   "cell_type": "code",
   "execution_count": 60,
   "metadata": {},
   "outputs": [],
   "source": [
    "df_Cvyanjan = pd.DataFrame(columns=['vyanjan', 'frequency'])\n",
    "df_Cswar = pd.DataFrame(columns=['swar', 'frequency'])\n",
    "df_Cmatra = pd.DataFrame(columns=['matra', 'frequency'])\n",
    "\n",
    "for i in range(len(CipherText)):\n",
    "    for letter in CipherText[i]:\n",
    "        if letter in hc.vyanjans:\n",
    "            InsertOrIncrease(df_Cvyanjan, 'vyanjan',letter)\n",
    "        if letter in hc.swars:\n",
    "            InsertOrIncrease(df_Cswar, 'swar',letter)\n",
    "        if letter in hc.matras:\n",
    "            InsertOrIncrease(df_Cmatra, 'matra',letter)\n",
    "            \n",
    "generateCSV(df_Cvyanjan, 'Cvyanjan.csv')\n",
    "generateCSV(df_Cswar, 'Cswar.csv')\n",
    "generateCSV(df_Cmatra, 'Cmatra.csv')"
   ]
  },
  {
   "cell_type": "code",
   "execution_count": 61,
   "metadata": {},
   "outputs": [
    {
     "name": "stdout",
     "output_type": "stream",
     "text": [
      "['ऐख', 'ढीभै', 'घू', 'हैटघेलैहै', 'सुटोधी', 'झय्प्शखोय', 'घा', 'ऐख', 'ढीभै', 'घी', 'शूटू', 'छाकुध', 'घशधू', 'गौं।']\n",
      "उस -> ऐख\n",
      "टापू -> ढीभै\n",
      "की -> घू\n",
      "राजकुमारी -> हैटघेलैहै\n",
      "विजेता -> सुटोधी\n",
      "चन्द्रसेन -> झय्प्शखोय\n",
      "को -> घा\n",
      "उस -> ऐख\n",
      "टापू -> ढीभै\n",
      "का -> घी\n",
      "राजा -> शूटू\n",
      "घोषित -> छाकुध\n",
      "करती -> घशधू\n",
      "हैं। -> गौं।\n"
     ]
    }
   ],
   "source": [
    "attemptedDecryption = []\n",
    "\n",
    "for word in CipherText:\n",
    "    attemptedDecryption.append(word)\n",
    "    \n",
    "print(attemptedDecryption)\n",
    "\n",
    "for i in range(len(attemptedDecryption)):\n",
    "    print(f'{PlainText[i]} -> {attemptedDecryption[i]}')"
   ]
  },
  {
   "cell_type": "code",
   "execution_count": 62,
   "metadata": {},
   "outputs": [
    {
     "name": "stdout",
     "output_type": "stream",
     "text": [
      "ऐख\n",
      "ढेभा\n",
      "घी\n",
      "हूटघुलूहू\n",
      "सिटोधे\n",
      "झय्प्शखोय\n",
      "घं\n",
      "ऐख\n",
      "ढेभा\n",
      "घे\n",
      "शेटे\n",
      "छंकिध\n",
      "घशधी\n",
      "गैू।\n"
     ]
    }
   ],
   "source": [
    "df_matra = df_matra.sort_values(by=['frequency'], ascending=False)\n",
    "df_Cmatra = df_Cmatra.sort_values(by=['frequency'], ascending=False)\n",
    "\n",
    "for word in CipherText:\n",
    "    for i in range(len(word)):\n",
    "        if word[i] in df_Cmatra['matra'].values:\n",
    "            word = word.replace(word[i], df_matra['matra'].values[df_Cmatra['matra'].values.tolist().index(word[i])])\n",
    "    print(word)"
   ]
  },
  {
   "cell_type": "code",
   "execution_count": 63,
   "metadata": {},
   "outputs": [
    {
     "name": "stdout",
     "output_type": "stream",
     "text": [
      "['उस', 'टापू', 'की', 'राजकुमारी', 'विजेता', 'चन्द्रसेन', 'को', 'उस', 'टापू', 'का', 'राजा', 'घोषित', 'करती', 'हैं।']\n"
     ]
    }
   ],
   "source": [
    "print(PlainText)"
   ]
  },
  {
   "cell_type": "code",
   "execution_count": 64,
   "metadata": {},
   "outputs": [],
   "source": [
    "def generateVyanjanKeyMatrix ():\n",
    "    arr = np.random.permutation(33)\n",
    "\n",
    "    dict = {}\n",
    "    idx = 1\n",
    "    for i in arr:\n",
    "        dict[hc.IndexToVyanjan[idx].decode('utf-8')] = hc.IndexToVyanjan[i+1].decode('utf-8')\n",
    "        \n",
    "        idx = idx+1\n",
    "    return dict"
   ]
  },
  {
   "cell_type": "code",
   "execution_count": 65,
   "metadata": {},
   "outputs": [
    {
     "name": "stdout",
     "output_type": "stream",
     "text": [
      "{'क': 'र', 'ख': 'ब', 'ग': 'थ', 'घ': 'स', 'ङ': 'ष', 'च': 'झ', 'छ': 'य', 'ज': 'द', 'झ': 'ड', 'ञ': 'ञ', 'ट': 'म', 'ठ': 'भ', 'ड': 'व', 'ढ': 'फ', 'ण': 'ज', 'त': 'न', 'थ': 'घ', 'द': 'ल', 'ध': 'ण', 'न': 'ट', 'प': 'ढ', 'फ': 'त', 'ब': 'क', 'भ': 'ख', 'म': 'ग', 'य': 'छ', 'र': 'ध', 'ल': 'च', 'व': 'प', 'श': 'ठ', 'ष': 'श', 'स': 'ङ', 'ह': 'ह'}\n"
     ]
    }
   ],
   "source": [
    "print(generateVyanjanKeyMatrix())"
   ]
  },
  {
   "cell_type": "code",
   "execution_count": 66,
   "metadata": {},
   "outputs": [],
   "source": [
    "def generateMatraKeyMatrix ():\n",
    "    arr = np.random.permutation(13)\n",
    "\n",
    "    dict = {}\n",
    "    idx = 1\n",
    "    for i in arr:\n",
    "        dict[hc.IndexToMatra[idx]] = hc.IndexToMatra[i+1]\n",
    "        \n",
    "        idx = idx+1\n",
    "    return dict"
   ]
  },
  {
   "cell_type": "code",
   "execution_count": 67,
   "metadata": {},
   "outputs": [
    {
     "name": "stdout",
     "output_type": "stream",
     "text": [
      "{'ा': 'ँ', 'ि': 'ि', 'ी': 'ा', 'ु': 'ै', 'ू': 'ं', 'े': 'ृ', 'ै': 'े', 'ो': 'ः', 'ौ': 'ौ', 'ं': 'ू', 'ः': 'ी', 'ँ': 'ो', 'ृ': 'ु'}\n"
     ]
    }
   ],
   "source": [
    "\n",
    "print(generateMatraKeyMatrix())"
   ]
  },
  {
   "cell_type": "code",
   "execution_count": 68,
   "metadata": {},
   "outputs": [],
   "source": [
    "def generateSwarKeyMatrix ():\n",
    "    arr = np.random.permutation(12)\n",
    "\n",
    "    dict = {}\n",
    "    idx = 1\n",
    "    for i in arr:\n",
    "        dict[hc.IndexToSwar[idx]] = hc.IndexToSwar[i+1]\n",
    "        \n",
    "        idx = idx+1\n",
    "    return dict"
   ]
  },
  {
   "cell_type": "code",
   "execution_count": 69,
   "metadata": {},
   "outputs": [
    {
     "name": "stdout",
     "output_type": "stream",
     "text": [
      "{'अ:': 'ऐ', 'आ:': 'ए', 'इ': 'ओ', 'ई': 'अ:', 'उ': 'उ', 'ऊ': 'अं', 'ए': 'अः', 'ऐ': 'ई', 'ओ': 'औ', 'औ': 'आ:', 'अं': 'इ', 'अः': 'ऊ'}\n"
     ]
    }
   ],
   "source": [
    "print(generateSwarKeyMatrix())"
   ]
  },
  {
   "cell_type": "code",
   "execution_count": 70,
   "metadata": {},
   "outputs": [],
   "source": [
    "def encryptfunc():\n",
    "    CipherText= []\n",
    "    PlainText = []\n",
    "\n",
    "    SubstitutionMatrixMatra = generateMatraKeyMatrix()\n",
    "    SubstitutionMatrixSwar = generateSwarKeyMatrix()\n",
    "    SubstitutionMatrixVyanjan = generateVyanjanKeyMatrix()\n",
    "    \n",
    "    with open('PlainTextinput.txt',encoding='utf-8') as f:\n",
    "        sentence=f.read()\n",
    "        \n",
    "        words = sentence.split()\n",
    "        print(f'Number of words: {len(words)}')\n",
    "        \n",
    "        for word in words:\n",
    "            PlainText.append(word)\n",
    "            ogword = word\n",
    "\n",
    "            for i in range(len(word)):\n",
    "                if word[i] in SubstitutionMatrixVyanjan:\n",
    "                    word = word.replace(word[i], SubstitutionMatrixVyanjan[word[i]])\n",
    "                if word[i] in SubstitutionMatrixMatra:\n",
    "                    word = word.replace(word[i], SubstitutionMatrixMatra[word[i]])\n",
    "                if word[i] in SubstitutionMatrixSwar:\n",
    "                    word = word.replace(word[i], SubstitutionMatrixSwar[word[i]])\n",
    "            print(f'{ogword} -> {word}')\n",
    "            CipherText.append(word)\n",
    "\n",
    "    return CipherText"
   ]
  },
  {
   "cell_type": "code",
   "execution_count": 71,
   "metadata": {},
   "outputs": [
    {
     "name": "stdout",
     "output_type": "stream",
     "text": [
      "Number of words: 14\n",
      "उस -> अेस\n",
      "टापू -> षैधो\n",
      "की -> घि\n",
      "राजकुमारी -> फँथघौफँफि\n",
      "विजेता -> हैथीचै\n",
      "चन्द्रसेन -> झठ्ट्मञीठ\n",
      "को -> घं\n",
      "उस -> अेस\n",
      "टापू -> षैधो\n",
      "का -> घै\n",
      "राजा -> मँथँ\n",
      "घोषित -> रंयाच\n",
      "करती -> घमचि\n",
      "हैं। -> खँे।\n",
      "['अेस', 'षैधो', 'घि', 'फँथघौफँफि', 'हैथीचै', 'झठ्ट्मञीठ', 'घं', 'अेस', 'षैधो', 'घै', 'मँथँ', 'रंयाच', 'घमचि', 'खँे।']\n"
     ]
    }
   ],
   "source": [
    "print(encryptfunc())"
   ]
  },
  {
   "cell_type": "code",
   "execution_count": 72,
   "metadata": {},
   "outputs": [
    {
     "name": "stdout",
     "output_type": "stream",
     "text": [
      "['उस', 'टापू', 'की', 'राजकुमारी', 'विजेता', 'चन्द्रसेन', 'को', 'उस', 'टापू', 'का', 'राजा', 'घोषित', 'करती', 'हैं।']\n",
      "['ऐख', 'ढीभै', 'घू', 'हैटघेलैहै', 'सुटोधी', 'झय्प्शखोय', 'घा', 'ऐख', 'ढीभै', 'घी', 'शूटू', 'छाकुध', 'घशधू', 'गौं।']\n",
      "['sv', 'vmvm', 'vm', 'vmvvmvmvm', 'vmvmvm', 'vvhvhvvmv', 'vm', 'sv', 'vmvm', 'vm', 'vmvm', 'vmvmv', 'vvvm', 'vmmv']\n"
     ]
    }
   ],
   "source": [
    "attempt = []\n",
    "print(PlainText)\n",
    "print(CipherText)\n",
    "\n",
    "for i in range(len(PlainText)):\n",
    "    str=\"\"\n",
    "    for j in range(len(PlainText[i])):\n",
    "        # print(f'{PlainText[i][j]} is {hc.LetterType[PlainText[i][j]]}')\n",
    "        str=str+hc.LetterType[PlainText[i][j]][0]\n",
    "    attempt.append(str)\n",
    "\n",
    "print(attempt)"
   ]
  },
  {
   "cell_type": "code",
   "execution_count": 73,
   "metadata": {},
   "outputs": [],
   "source": [
    "def GenerateCipherCSV(CipherText):\n",
    "    df_Cvyanjan = pd.DataFrame(columns=['vyanjan', 'frequency'])\n",
    "    df_Cswar = pd.DataFrame(columns=['swar', 'frequency'])\n",
    "    df_Cmatra = pd.DataFrame(columns=['matra', 'frequency'])\n",
    "\n",
    "    for i in range(len(CipherText)):\n",
    "        for letter in CipherText[i]:\n",
    "            if letter in hc.vyanjans:\n",
    "                InsertOrIncrease(df_Cvyanjan, 'vyanjan',letter)\n",
    "            if letter in hc.swars:\n",
    "                InsertOrIncrease(df_Cswar, 'swar',letter)\n",
    "            if letter in hc.matras:\n",
    "                InsertOrIncrease(df_Cmatra, 'matra',letter)\n",
    "                \n",
    "    generateCSV(df_Cvyanjan, 'Cvyanjan.csv')\n",
    "    generateCSV(df_Cswar, 'Cswar.csv')\n",
    "    generateCSV(df_Cmatra, 'Cmatra.csv')"
   ]
  },
  {
   "cell_type": "code",
   "execution_count": 74,
   "metadata": {},
   "outputs": [
    {
     "data": {
      "text/plain": [
       "<queue.PriorityQueue at 0x2099b832710>"
      ]
     },
     "execution_count": 74,
     "metadata": {},
     "output_type": "execute_result"
    }
   ],
   "source": [
    "import queue\n",
    "pq=queue.PriorityQueue()\n",
    "\n",
    "pq.put((1,'कeva'))\n",
    "pq\n"
   ]
  }
 ],
 "metadata": {
  "kernelspec": {
   "display_name": "Python 3",
   "language": "python",
   "name": "python3"
  },
  "language_info": {
   "codemirror_mode": {
    "name": "ipython",
    "version": 3
   },
   "file_extension": ".py",
   "mimetype": "text/x-python",
   "name": "python",
   "nbconvert_exporter": "python",
   "pygments_lexer": "ipython3",
   "version": "3.11.0"
  },
  "orig_nbformat": 4,
  "vscode": {
   "interpreter": {
    "hash": "c261aea317cc0286b3b3261fbba9abdec21eaa57589985bb7a274bf54d6cc0a7"
   }
  }
 },
 "nbformat": 4,
 "nbformat_minor": 2
}

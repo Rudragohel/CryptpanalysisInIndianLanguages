{
 "cells": [
  {
   "cell_type": "code",
   "execution_count": 1,
   "metadata": {},
   "outputs": [],
   "source": [
    "import numpy as np\n",
    "import pandas as pd\n",
    "import matplotlib.pyplot as plt\n",
    "import MatplotlibKeyMap as mk\n"
   ]
  },
  {
   "cell_type": "code",
   "execution_count": 2,
   "metadata": {},
   "outputs": [],
   "source": [
    "def create_dataset_from_individual_files(Path,n,name):\n",
    "    sentences = []\n",
    "    for i in range(n):\n",
    "        try:\n",
    "            with open(f'{Path}{i+1}.txt',encoding='utf-8') as f:\n",
    "                sentence=f.read()\n",
    "                # print(sentence)\n",
    "                sentences.append(sentence)\n",
    "        except:\n",
    "            print(f'File {i+1} not found')\n",
    "    with open(name,'w',encoding='utf-8') as f:\n",
    "        for sentence in sentences:\n",
    "            f.write(sentence)\n",
    "            f.write(' ')\n",
    "    "
   ]
  },
  {
   "cell_type": "code",
   "execution_count": 3,
   "metadata": {},
   "outputs": [],
   "source": [
    "Path = \"C:\\\\Users\\\\rudra\\\\Documents\\\\DAIICT\\\\sem 6\\\\Cryptography\\\\Exploration\\\\AajTak Articles\\\\aajtak_stories\\\\FileNumber\""
   ]
  },
  {
   "cell_type": "code",
   "execution_count": 5,
   "metadata": {},
   "outputs": [],
   "source": [
    "create_dataset_from_individual_files(Path,700,'CombinedFilesNewsArticlesCheck.txt')"
   ]
  },
  {
   "cell_type": "code",
   "execution_count": null,
   "metadata": {},
   "outputs": [],
   "source": []
  }
 ],
 "metadata": {
  "kernelspec": {
   "display_name": "Python 3",
   "language": "python",
   "name": "python3"
  },
  "language_info": {
   "codemirror_mode": {
    "name": "ipython",
    "version": 3
   },
   "file_extension": ".py",
   "mimetype": "text/x-python",
   "name": "python",
   "nbconvert_exporter": "python",
   "pygments_lexer": "ipython3",
   "version": "3.9.13"
  },
  "orig_nbformat": 4,
  "vscode": {
   "interpreter": {
    "hash": "c261aea317cc0286b3b3261fbba9abdec21eaa57589985bb7a274bf54d6cc0a7"
   }
  }
 },
 "nbformat": 4,
 "nbformat_minor": 2
}

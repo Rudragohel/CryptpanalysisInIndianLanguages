{
 "cells": [
  {
   "cell_type": "code",
   "execution_count": 1,
   "metadata": {},
   "outputs": [],
   "source": [
    "import numpy as np\n",
    "import pandas as pd\n",
    "import matplotlib.pyplot as plt\n",
    "import MatplotlibKeyMap as mk\n",
    "import os\n"
   ]
  },
  {
   "cell_type": "code",
   "execution_count": 2,
   "metadata": {},
   "outputs": [],
   "source": [
    "def InsertOrIncrease(df, type,word):\n",
    "    if df[type].isin([word]).any():\n",
    "        df.loc[df[type] == word, 'frequency'] += 1\n",
    "    else:\n",
    "        df.loc[len(df)] = [word, 1]"
   ]
  },
  {
   "cell_type": "code",
   "execution_count": 3,
   "metadata": {},
   "outputs": [],
   "source": [
    "def GeneratengramCSV(filename, n):\n",
    "    sentence = ''\n",
    "    df = pd.DataFrame(columns=['ngram', 'frequency'])\n",
    "\n",
    "    with open(filename+'.txt',encoding='utf-8') as f:\n",
    "        sentence=f.read()\n",
    "        # wordList = sentence.split()\n",
    "        # for word in wordList:\n",
    "        #     for i in range(len(word)):\n",
    "        #         curr_ngram = ''\n",
    "        #         if i+n < len(word):\n",
    "        #             curr_ngram = word[i:i+n]\n",
    "        #             InsertOrIncrease(df, 'ngram' ,curr_ngram)\n",
    "        # sentence = sentence.replace(' ','')\n",
    "        # print(sentence)\n",
    "        for i in range(len(sentence)):\n",
    "            curr_ngram = ''\n",
    "            consider = True\n",
    "            if i+n < len(sentence):\n",
    "                for j in range(n):\n",
    "                    # print(sentence[i+j],end='')\n",
    "                    if sentence[i+j] in mk.EnglishAlphabet or sentence[i+j]=='\\n' or sentence[i+j]=='\\t' or sentence[i+j] in mk.EnglishNumber or sentence[i+j] in mk.SpecialCharacter or sentence[i+j] in mk.EmojiCharacter or sentence[i+j] =='0':\n",
    "                        consider = False\n",
    "                        continue\n",
    "                # print()\n",
    "                if consider:\n",
    "                    curr_ngram = sentence[i:i+n]\n",
    "                    # print(curr_ngram)\n",
    "                    InsertOrIncrease(df, 'ngram' ,curr_ngram)\n",
    "\n",
    "    df['probability'] = df['frequency']/df['frequency'].sum()\n",
    "    \n",
    "    df = df.sort_values(by=['frequency'], ascending=False)\n",
    "    \n",
    "    if not os.path.exists(filename+'/ngram'):\n",
    "        os.makedirs(filename+'/ngram')\n",
    "\n",
    "    df.to_csv(f'{filename}/ngram/ngram{n}.csv', index=False)\n",
    "\n",
    "            "
   ]
  },
  {
   "cell_type": "code",
   "execution_count": 4,
   "metadata": {},
   "outputs": [],
   "source": [
    "def CalculateEntropy(filename, n):\n",
    "    df = pd.read_csv(filename)\n",
    "    entropy=0   \n",
    "    for i in range(len(df)):\n",
    "        entropy -= df['probability'][i]*np.log2(df['probability'][i])\n",
    "    print(f'Entropy of {n} gram is {entropy/n}')\n",
    "    return entropy/n"
   ]
  },
  {
   "cell_type": "code",
   "execution_count": 7,
   "metadata": {},
   "outputs": [
    {
     "name": "stdout",
     "output_type": "stream",
     "text": [
      "0 Done\n",
      "1 Done\n",
      "2 Done\n",
      "3 Done\n"
     ]
    }
   ],
   "source": [
    "filename = 'CombinedFilesNewsArticles'\n",
    "\n",
    "for i in range(4):\n",
    "  GeneratengramCSV(filename,1+i)\n",
    "  print(f'{i} Done')"
   ]
  },
  {
   "cell_type": "code",
   "execution_count": null,
   "metadata": {},
   "outputs": [
    {
     "name": "stdout",
     "output_type": "stream",
     "text": [
      "Entropy of 1 gram is 4.674132175319671\n",
      "Entropy of 2 gram is 4.142508034734292\n",
      "Entropy of 3 gram is 3.6355141893283562\n",
      "Entropy of 4 gram is 3.160357778843375\n",
      "Entropy of 5 gram is 2.7450597094829554\n",
      "Entropy of 6 gram is 2.405566952639561\n",
      "Entropy of 7 gram is 2.1270575362033033\n",
      "Entropy of 8 gram is 1.8973694631689713\n",
      "Entropy of 9 gram is 1.7071941801319461\n",
      "Entropy of 10 gram is 1.5481917261032883\n",
      "Entropy of 11 gram is 1.4140545853036202\n",
      "Entropy of 12 gram is 1.2995138173535226\n",
      "Entropy of 13 gram is 1.200723744162371\n",
      "Entropy of 14 gram is 1.115142752356461\n",
      "Entropy of 15 gram is 1.0401756003989162\n",
      "Entropy of 16 gram is 0.9741980680745341\n",
      "Entropy of 17 gram is 0.9156949170010891\n",
      "Entropy of 18 gram is 0.8634599542582319\n",
      "Entropy of 19 gram is 0.8165376895939751\n",
      "Entropy of 20 gram is 0.7741847502585231\n",
      "Entropy of 21 gram is 0.7358079176838663\n",
      "Entropy of 22 gram is 0.7008467821237283\n",
      "Entropy of 23 gram is 0.6688770778330609\n",
      "Entropy of 24 gram is 0.6395346547419158\n",
      "Entropy of 25 gram is 0.6125081086764408\n",
      "[4.674132175319671, 4.142508034734292, 3.6355141893283562, 3.160357778843375, 2.7450597094829554, 2.405566952639561, 2.1270575362033033, 1.8973694631689713, 1.7071941801319461, 1.5481917261032883, 1.4140545853036202, 1.2995138173535226, 1.200723744162371, 1.115142752356461, 1.0401756003989162, 0.9741980680745341, 0.9156949170010891, 0.8634599542582319, 0.8165376895939751, 0.7741847502585231, 0.7358079176838663, 0.7008467821237283, 0.6688770778330609, 0.6395346547419158, 0.6125081086764408]\n"
     ]
    }
   ],
   "source": [
    "entropyList = []\n",
    "\n",
    "for i in range(1,6):\n",
    "    entropyList.append(CalculateEntropy(f'{filename}/ngram/ngram{i}.csv', i))\n",
    "    \n",
    "print(entropyList)"
   ]
  },
  {
   "cell_type": "code",
   "execution_count": null,
   "metadata": {},
   "outputs": [
    {
     "data": {
      "image/png": "[encoded data removed]",
      "text/plain": [
       "<Figure size 640x480 with 1 Axes>"
      ]
     },
     "metadata": {},
     "output_type": "display_data"
    },
    {
     "data": {
      "text/plain": [
       "<Figure size 640x480 with 0 Axes>"
      ]
     },
     "metadata": {},
     "output_type": "display_data"
    }
   ],
   "source": [
    "plt.figure()\n",
    "\n",
    "x = np.arange(1,len(entropyList)+1)\n",
    "\n",
    "plt.scatter(x, entropyList, marker='o', color='red')\n",
    "plt.plot(x, entropyList)\n",
    "plt.xlabel('n')\n",
    "plt.ylabel('Entropy')\n",
    "plt.title('Entropy vs n')\n",
    "plt.show()\n",
    "plt.savefig(f'{filename}/EntropyVsN.png')\n",
    "\n",
    "         "
   ]
  },
  {
   "cell_type": "code",
   "execution_count": null,
   "metadata": {},
   "outputs": [],
   "source": [
    "def GenerateRedundancy(entropy):\n",
    "    Rl=1-entropy/np.log2(60)\n",
    "    return Rl"
   ]
  },
  {
   "cell_type": "code",
   "execution_count": null,
   "metadata": {},
   "outputs": [
    {
     "name": "stdout",
     "output_type": "stream",
     "text": [
      "Redundancy of 1 gram is 0.20869836682015797\n",
      "Redundancy of 2 gram is 0.2986990417912866\n",
      "Redundancy of 3 gram is 0.3845299603092054\n",
      "Redundancy of 4 gram is 0.4649709982451774\n",
      "Redundancy of 5 gram is 0.5352783896956257\n",
      "Redundancy of 6 gram is 0.5927524111538512\n",
      "Redundancy of 7 gram is 0.6399023307144599\n",
      "Redundancy of 8 gram is 0.678787099158469\n",
      "Redundancy of 9 gram is 0.7109825969349829\n",
      "Redundancy of 10 gram is 0.7379007277950447\n",
      "Redundancy of 11 gram is 0.7606093151014343\n",
      "Redundancy of 12 gram is 0.7800003578329948\n",
      "Redundancy of 13 gram is 0.7967249054764871\n",
      "Redundancy of 14 gram is 0.8112132374373897\n",
      "Redundancy of 15 gram is 0.8239047120371189\n",
      "Redundancy of 16 gram is 0.8350742997002852\n",
      "Redundancy of 17 gram is 0.8449785209020355\n",
      "Redundancy of 18 gram is 0.8538215766345543\n",
      "Redundancy of 19 gram is 0.8617652254807241\n",
      "Redundancy of 20 gram is 0.8689353158438229\n",
      "Redundancy of 21 gram is 0.8754322759539676\n",
      "Redundancy of 22 gram is 0.8813509797109205\n",
      "Redundancy of 23 gram is 0.8867632526780946\n",
      "Redundancy of 24 gram is 0.891730743207369\n",
      "Redundancy of 25 gram is 0.8963061700970372\n"
     ]
    }
   ],
   "source": [
    "for i in range(1,len(entropyList)+1):\n",
    "    print(f'Redundancy of {i} gram is {GenerateRedundancy(entropyList[i-1])}')"
   ]
  },
  {
   "cell_type": "code",
   "execution_count": 10,
   "metadata": {},
   "outputs": [],
   "source": [
    "# implement the function to calculate the entropy of a given n-gram\n",
    "\n",
    "def Calculate(n):\n",
    "    \n",
    "    df_currgram = pd.read_csv(f'{filename}/ngram/ngram{n}.csv')\n",
    "    entropy_sum = 0\n",
    "    \n",
    "    for i in range(len(df_currgram)):\n",
    "        # print(f'{df_currgram[\"ngram\"][i]} {df_currgram[\"probability\"][i]}')       \n",
    "        entropy_sum -= df_currgram['probability'][i]*np.log2(df_currgram['probability'][i])\n",
    "    # print(f'Entropy of {n} gram is {entropy_sum}')\n",
    "    return entropy_sum"
   ]
  },
  {
   "cell_type": "code",
   "execution_count": 12,
   "metadata": {},
   "outputs": [
    {
     "name": "stdout",
     "output_type": "stream",
     "text": [
      "[4.696349462414696, 3.6427976335355527, 2.806302795078727]\n"
     ]
    }
   ],
   "source": [
    "entropyList = []\n",
    "prev_entropy = 0\n",
    "for i in range(1,4):   \n",
    "    entropyn = Calculate(i)\n",
    "    entropyList.append(entropyn-prev_entropy)\n",
    "    prev_entropy = entropyn\n",
    "print(entropyList)\n",
    "\n"
   ]
  },
  {
   "cell_type": "code",
   "execution_count": null,
   "metadata": {},
   "outputs": [
    {
     "data": {
      "image/png": "[encoded data removed]",
      "text/plain": [
       "<Figure size 640x480 with 1 Axes>"
      ]
     },
     "metadata": {},
     "output_type": "display_data"
    },
    {
     "data": {
      "text/plain": [
       "<Figure size 640x480 with 0 Axes>"
      ]
     },
     "metadata": {},
     "output_type": "display_data"
    }
   ],
   "source": [
    "plt.figure()\n",
    "\n",
    "x = np.arange(1,len(entropyList)+1)\n",
    "\n",
    "plt.scatter(x, entropyList, marker='o', color='red')\n",
    "plt.plot(x, entropyList)\n",
    "plt.xlabel('n')\n",
    "plt.ylabel('Entropy')\n",
    "plt.title('Entropy vs n')\n",
    "plt.show()\n",
    "\n",
    "plt.savefig(f'{filename}/EntropyVsN.png')"
   ]
  },
  {
   "cell_type": "code",
   "execution_count": 14,
   "metadata": {},
   "outputs": [
    {
     "name": "stdout",
     "output_type": "stream",
     "text": [
      "5.906890595608519\n"
     ]
    }
   ],
   "source": [
    "print(np.log2(60))"
   ]
  },
  {
   "cell_type": "code",
   "execution_count": null,
   "metadata": {},
   "outputs": [],
   "source": []
  }
 ],
 "metadata": {
  "kernelspec": {
   "display_name": "Python 3",
   "language": "python",
   "name": "python3"
  },
  "language_info": {
   "codemirror_mode": {
    "name": "ipython",
    "version": 3
   },
   "file_extension": ".py",
   "mimetype": "text/x-python",
   "name": "python",
   "nbconvert_exporter": "python",
   "pygments_lexer": "ipython3",
   "version": "3.9.13"
  },
  "orig_nbformat": 4,
  "vscode": {
   "interpreter": {
    "hash": "c261aea317cc0286b3b3261fbba9abdec21eaa57589985bb7a274bf54d6cc0a7"
   }
  }
 },
 "nbformat": 4,
 "nbformat_minor": 2
}

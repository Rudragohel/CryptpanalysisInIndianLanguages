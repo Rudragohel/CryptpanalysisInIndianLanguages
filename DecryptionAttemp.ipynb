{
 "cells": [
  {
   "cell_type": "code",
   "execution_count": 2,
   "metadata": {},
   "outputs": [],
   "source": [
    "import numpy as np\n",
    "import HindiCharts as hc\n",
    "import pandas as pd\n",
    "import matplotlib.pyplot as plt\n",
    "import decimal\n",
    "import seaborn as sns\n",
    "import matplotlib as mpl\n",
    "import matplotlib.font_manager as mfm\n",
    "import MatplotlibKeyMap as mk\n",
    "import os"
   ]
  },
  {
   "attachments": {},
   "cell_type": "markdown",
   "metadata": {},
   "source": [
    "Function to generate Vyanjan Key Matrix"
   ]
  },
  {
   "cell_type": "code",
   "execution_count": 3,
   "metadata": {},
   "outputs": [],
   "source": [
    "def generateVyanjanKeyMatrix ():\n",
    "    arr = np.random.permutation(33)\n",
    "\n",
    "    dict = {}\n",
    "    idx = 1\n",
    "    for i in arr:\n",
    "        dict[hc.IndexToVyanjan[idx].decode('utf-8')] = hc.IndexToVyanjan[i+1].decode('utf-8')\n",
    "        \n",
    "        idx = idx+1\n",
    "    return dict"
   ]
  },
  {
   "attachments": {},
   "cell_type": "markdown",
   "metadata": {},
   "source": [
    "Function to generate Matra Key Matrix"
   ]
  },
  {
   "cell_type": "code",
   "execution_count": 4,
   "metadata": {},
   "outputs": [],
   "source": [
    "def generateMatraKeyMatrix ():\n",
    "    arr = np.random.permutation(13)\n",
    "\n",
    "    dict = {}\n",
    "    idx = 1\n",
    "    for i in arr:\n",
    "        dict[hc.IndexToMatra[idx]] = hc.IndexToMatra[i+1]\n",
    "        \n",
    "        idx = idx+1\n",
    "    return dict"
   ]
  },
  {
   "attachments": {},
   "cell_type": "markdown",
   "metadata": {},
   "source": [
    "Function to generate Swar Key Matrix"
   ]
  },
  {
   "cell_type": "code",
   "execution_count": 5,
   "metadata": {},
   "outputs": [],
   "source": [
    "def generateSwarKeyMatrix ():\n",
    "    arr = np.random.permutation(12)\n",
    "\n",
    "    dict = {}\n",
    "    idx = 1\n",
    "    for i in arr:\n",
    "        dict[hc.IndexToSwar[idx]] = hc.IndexToSwar[i+1]\n",
    "        \n",
    "        idx = idx+1\n",
    "    return dict"
   ]
  },
  {
   "attachments": {},
   "cell_type": "markdown",
   "metadata": {},
   "source": [
    "Encryption Function"
   ]
  },
  {
   "cell_type": "code",
   "execution_count": 17,
   "metadata": {},
   "outputs": [],
   "source": [
    "def encryptfunc():\n",
    "    CipherText= []\n",
    "    PlainText = []\n",
    "\n",
    "    SubstitutionMatrixMatra = generateMatraKeyMatrix()\n",
    "    SubstitutionMatrixSwar = generateSwarKeyMatrix()\n",
    "    SubstitutionMatrixVyanjan = generateVyanjanKeyMatrix()\n",
    "    \n",
    "    with open('PlainTextinput.txt',encoding='utf-8') as f:\n",
    "        sentence=f.read()\n",
    "        \n",
    "        words = sentence.split()\n",
    "        print(f'Number of words: {len(words)}')\n",
    "        \n",
    "        for word in words:\n",
    "            PlainText.append(word)\n",
    "            ogword = word\n",
    "\n",
    "            for i in range(len(word)):\n",
    "                if word[i] in SubstitutionMatrixVyanjan:\n",
    "                    word = word.replace(word[i], SubstitutionMatrixVyanjan[word[i]])\n",
    "                if word[i] in SubstitutionMatrixMatra:\n",
    "                    word = word.replace(word[i], SubstitutionMatrixMatra[word[i]])\n",
    "                if word[i] in SubstitutionMatrixSwar:\n",
    "                    word = word.replace(word[i], SubstitutionMatrixSwar[word[i]])\n",
    "            print(f'{ogword} -> {word}')\n",
    "            CipherText.append(word)\n",
    "\n",
    "    return PlainText, CipherText"
   ]
  },
  {
   "attachments": {},
   "cell_type": "markdown",
   "metadata": {},
   "source": [
    "Generate Key Matrixs"
   ]
  },
  {
   "cell_type": "code",
   "execution_count": 7,
   "metadata": {},
   "outputs": [
    {
     "name": "stdout",
     "output_type": "stream",
     "text": [
      "\n",
      "\n",
      "Vyanjan key matrix:\n",
      "\n",
      " {'क': 'न', 'ख': 'ख', 'ग': 'ज', 'घ': 'क', 'ङ': 'ह', 'च': 'ष', 'छ': 'भ', 'ज': 'ब', 'झ': 'म', 'ञ': 'झ', 'ट': 'ध', 'ठ': 'छ', 'ड': 'ग', 'ढ': 'ङ', 'ण': 'ड', 'त': 'र', 'थ': 'त', 'द': 'थ', 'ध': 'द', 'न': 'श', 'प': 'ढ', 'फ': 'ल', 'ब': 'स', 'भ': 'ट', 'म': 'य', 'य': 'प', 'र': 'ण', 'ल': 'च', 'व': 'फ', 'श': 'व', 'ष': 'ञ', 'स': 'घ', 'ह': 'ठ'}\n",
      "\n",
      "\n",
      "Matra key matrix:\n",
      "\n",
      " {'ा': 'ः', 'ि': 'े', 'ी': 'ौ', 'ु': 'ृ', 'ू': 'ं', 'े': 'ि', 'ै': 'ु', 'ो': 'ा', 'ौ': 'ू', 'ं': 'ी', 'ः': 'ो', 'ँ': 'ँ', 'ृ': 'ै'}\n",
      "\n",
      "\n",
      "Swar key matrix:\n",
      "\n",
      " {'अ:': 'ओ', 'आ:': 'ऐ', 'इ': 'अः', 'ई': 'ऊ', 'उ': 'ई', 'ऊ': 'अ:', 'ए': 'ए', 'ऐ': 'इ', 'ओ': 'आ:', 'औ': 'औ', 'अं': 'उ', 'अः': 'अं'}\n"
     ]
    }
   ],
   "source": [
    "vkm=generateVyanjanKeyMatrix()\n",
    "mkm=generateMatraKeyMatrix()\n",
    "skm=generateSwarKeyMatrix()\n",
    "\n",
    "print(\"\\n\\nVyanjan key matrix:\\n\\n\",vkm)\n",
    "print(\"\\n\\nMatra key matrix:\\n\\n\",mkm)\n",
    "print(\"\\n\\nSwar key matrix:\\n\\n\",skm)"
   ]
  },
  {
   "attachments": {},
   "cell_type": "markdown",
   "metadata": {},
   "source": [
    "Encrypt"
   ]
  },
  {
   "cell_type": "code",
   "execution_count": 14,
   "metadata": {},
   "outputs": [
    {
     "name": "stdout",
     "output_type": "stream",
     "text": [
      "Number of words: 14\n",
      "उस -> ऊन\n",
      "टापू -> यौजे\n",
      "की -> पै\n",
      "राजकुमारी -> घृरपिघृघै\n",
      "विजेता -> णोरुसौ\n",
      "चन्द्रसेन -> ठय्झ्मनुय\n",
      "को -> पी\n",
      "उस -> ऊन\n",
      "टापू -> यौजे\n",
      "का -> पौ\n",
      "राजा -> मृरृ\n",
      "घोषित -> थीडोस\n",
      "करती -> पमसै\n",
      "हैं। -> खूं।\n",
      "['ऊन', 'यौजे', 'पै', 'घृरपिघृघै', 'णोरुसौ', 'ठय्झ्मनुय', 'पी', 'ऊन', 'यौजे', 'पौ', 'मृरृ', 'थीडोस', 'पमसै', 'खूं।']\n"
     ]
    }
   ],
   "source": [
    "print(encryptfunc())"
   ]
  },
  {
   "cell_type": "markdown",
   "metadata": {},
   "source": [
    "Attempt to decrypt the cipher text"
   ]
  },
  {
   "cell_type": "code",
   "execution_count": 19,
   "metadata": {},
   "outputs": [
    {
     "name": "stdout",
     "output_type": "stream",
     "text": [
      "Number of words: 14\n",
      "उस -> अिस\n",
      "टापू -> कँजौ\n",
      "की -> डी\n",
      "राजकुमारी -> णैतडायैणी\n",
      "विजेता -> ङोभृभँ\n",
      "चन्द्रसेन -> खन्न्षछृन\n",
      "को -> डं\n",
      "उस -> अिस\n",
      "टापू -> कँजौ\n",
      "का -> डँ\n",
      "राजा -> षैतै\n",
      "घोषित -> रंणोभ\n",
      "करती -> डषभी\n",
      "हैं। -> नुि।\n",
      "['उस', 'टापू', 'की', 'राजकुमारी', 'विजेता', 'चन्द्रसेन', 'को', 'उस', 'टापू', 'का', 'राजा', 'घोषित', 'करती', 'हैं।']\n",
      "['अिस', 'कँजौ', 'डी', 'णैतडायैणी', 'ङोभृभँ', 'खन्न्षछृन', 'डं', 'अिस', 'कँजौ', 'डँ', 'षैतै', 'रंणोभ', 'डषभी', 'नुि।']\n",
      "['sv', 'vmvm', 'vm', 'vmvvmvmvm', 'vmvmvm', 'vvhvhvvmv', 'vm', 'sv', 'vmvm', 'vm', 'vmvm', 'vmvmv', 'vvvm', 'vmmv']\n"
     ]
    }
   ],
   "source": [
    "attempt = []\n",
    "PlainText, CipherText = encryptfunc()\n",
    "print(PlainText)\n",
    "print(CipherText)\n",
    "\n",
    "for i in range(len(PlainText)):\n",
    "    str=\"\"\n",
    "    for j in range(len(PlainText[i])):\n",
    "        # print(f'{PlainText[i][j]} is {hc.LetterType[PlainText[i][j]]}')\n",
    "        str=str+hc.LetterType[PlainText[i][j]][0]\n",
    "    attempt.append(str)\n",
    "\n",
    "print(attempt)"
   ]
  },
  {
   "cell_type": "code",
   "execution_count": 20,
   "metadata": {},
   "outputs": [],
   "source": [
    "def InsertOrIncrease(df, type,word):\n",
    "    if df[type].isin([word]).any():\n",
    "        df.loc[df[type] == word, 'frequency'] += 1\n",
    "    else:\n",
    "        df.loc[len(df)] = [word, 1]"
   ]
  },
  {
   "cell_type": "code",
   "execution_count": 21,
   "metadata": {},
   "outputs": [],
   "source": [
    "def generateCSV(df, name):\n",
    "    df['frequency']=df['frequency'] / df['frequency'].sum()\n",
    "    pd.options.display.float_format = '{:.5f}'.format\n",
    "\n",
    "    df.to_csv(name, index=False)"
   ]
  },
  {
   "cell_type": "code",
   "execution_count": 22,
   "metadata": {},
   "outputs": [],
   "source": [
    "def GenerateCipherCSV(CipherText):\n",
    "    df_Cvyanjan = pd.DataFrame(columns=['vyanjan', 'frequency'])\n",
    "    df_Cswar = pd.DataFrame(columns=['swar', 'frequency'])\n",
    "    df_Cmatra = pd.DataFrame(columns=['matra', 'frequency'])\n",
    "\n",
    "    for i in range(len(CipherText)):\n",
    "        for letter in CipherText[i]:\n",
    "            if letter in hc.vyanjans:\n",
    "                InsertOrIncrease(df_Cvyanjan, 'vyanjan',letter)\n",
    "            if letter in hc.swars:\n",
    "                InsertOrIncrease(df_Cswar, 'swar',letter)\n",
    "            if letter in hc.matras:\n",
    "                InsertOrIncrease(df_Cmatra, 'matra',letter)\n",
    "                \n",
    "    generateCSV(df_Cvyanjan, 'Cvyanjan.csv')\n",
    "    generateCSV(df_Cswar, 'Cswar.csv')\n",
    "    generateCSV(df_Cmatra, 'Cmatra.csv')"
   ]
  }
 ],
 "metadata": {
  "kernelspec": {
   "display_name": "Python 3",
   "language": "python",
   "name": "python3"
  },
  "language_info": {
   "codemirror_mode": {
    "name": "ipython",
    "version": 3
   },
   "file_extension": ".py",
   "mimetype": "text/x-python",
   "name": "python",
   "nbconvert_exporter": "python",
   "pygments_lexer": "ipython3",
   "version": "3.11.0"
  },
  "orig_nbformat": 4,
  "vscode": {
   "interpreter": {
    "hash": "c261aea317cc0286b3b3261fbba9abdec21eaa57589985bb7a274bf54d6cc0a7"
   }
  }
 },
 "nbformat": 4,
 "nbformat_minor": 2
}
